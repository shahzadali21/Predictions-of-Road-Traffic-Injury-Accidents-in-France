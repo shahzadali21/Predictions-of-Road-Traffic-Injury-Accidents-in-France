{
 "cells": [
  {
   "cell_type": "markdown",
   "id": "e82787a7",
   "metadata": {},
   "source": [
    "#### Data project in Python\n",
    "# Accident Prediction in France"
   ]
  },
  {
   "cell_type": "markdown",
   "id": "73444a76",
   "metadata": {},
   "source": [
    "## Dataset Description\n",
    "\n",
    "For each personal injury accident, information describing the accident is entered by the police (or firefighters, paramedics) that intervened at the accident site. These entries are compiled in a form that make up the national file of personal injury accidents known as the “BAAC1 file” administered by the National Inter-ministerial Road Safety Observatory “ONISR”.\n",
    "What we want to predict here is the severity of an accident and especially the state of health of a victim. Victims are divided into 4 states:\n",
    "- those killed: people who die as a consequence of the accident, on the spot or within 30 days of the accident,\n",
    "- injured people: victims not killed. Among the injured persons, a distinction is made between:\n",
    "    - the so-called “hospitalized” injured: victims hospitalized for more than 24 hours,\n",
    "    - slightly injured: victims who have received medical attention but have not been admitted as patients to hospital for more than 24 hours,\n",
    "- Uninjured.\n",
    "The database of traffic accidents is divided into 4 headings:\n",
    "- The CHARACTERISTICS section, which describes the general circumstances of the accident,\n",
    "- The LOCATIONS (PLACES) section, which describes the main location of the accident, even if it occurred at an intersection,\n",
    "- The VEHICLES section involved,\n",
    "- The USERS section involved.\n",
    "\n",
    "Here Is the description of the tables :\n",
    "\n",
    "### CARACTERISTICS:\n",
    "\n",
    "- Num_Acc : Accident ID -Accident identifier number\n",
    "- jour : Day of the accident\n",
    "- mois : Month of the accident\n",
    "- an : year - Year of the accident\n",
    "- hrmn : Hour and minutes of the accident\n",
    "- lum : Lighting : lighting conditions in which the accident occurred\n",
    "    - 1. Full day\n",
    "    - 2. Twilight (Dusk)or Dawn\n",
    "    - 3. Night without public lighting\n",
    "    - 4. Night with public lighting not lit\n",
    "    - 5. Night with public lighting on\n",
    "- dep : Department - INSEE code (National Institute of Statistics and Economic Studies) of the department (2A Corse-du-Sud - 2B Haute-Corse)\n",
    "- com : Municipality - The commune number is a code given by the INSEE. The code is composed of the INSEE code of the department followed by 3 digits.\n",
    "- agg  : Location \n",
    "    - 1. Outside built-up areas\n",
    "    - 2. In built-up areas\n",
    "- int: Type of Intersection \n",
    "    - 1. Out of intersection\n",
    "    - 2. Intersection in X\n",
    "    - 3. Intersection in T\n",
    "    - 4. Y-intersection\n",
    "    - 5. Intersection with more than 4 branches\n",
    "    - 6.  Roundabout\n",
    "    - 7. Square\n",
    "    - 8. Level crossing\n",
    "    - 9. Other intersection\n",
    "- atm : Atmospheric conditions:\n",
    "    - 1. Normal\n",
    "    - 2. Light rain\n",
    "    - 3. Heavy rain\n",
    "    - 4. Snow - hail\n",
    "    - 5. Fog - smoke\n",
    "    - 6. Strong wind - storm\n",
    "    - 7. Dazzling weather\n",
    "    - 8. Cloudy weather\n",
    "    - 9. Other\n",
    "- col : Type of collision:\n",
    "    - 1. Two vehicles - frontal\n",
    "    - 2. Two vehicles - from the rear\n",
    "    - 3. Two vehicles - by the side\n",
    "    - 4. Three vehicles and more - in chain\n",
    "    - 5. Three or more vehicles - multiple collisions\n",
    "    - 6. Other collision\n",
    "    - 7. Without collision\n",
    "- adr : Postal address: variable filled in for accidents occurring in built-up areas\n",
    "- lat : Latitude\n",
    "- long : Longitude\n",
    "- vma : Maximum authorized speed at the place and time of the accident."
   ]
  },
  {
   "cell_type": "markdown",
   "id": "45e4796d",
   "metadata": {},
   "source": [
    "### VEHICLES:\n",
    "\n",
    "- Num_Acc : Identifier of the accident identical to the one in the \"CHARACTERISTICS\" file for each of the described vehicles involved in the accident.\n",
    "- id_vehicle : Unique identifier of the vehicle included for each of the users occupying this vehicle (including pedestrians who are attached to the vehicles that hit them) - Numeric code.\n",
    "- Num_Veh : Identifier of the vehicle taken over for each of the users occupying this vehicle (including pedestrians who are attached to the vehicles that hit them) - Alphanumeric code.\n",
    "- senc : Direction of traffic :\n",
    "    - -1 - Unknown\n",
    "    - 0 - Unknown\n",
    "    - 1 - KP or RP or street address number increasing\n",
    "    - 2 - Decreasing KP or RP or street address number \n",
    "    - 3 - No marker\n",
    "- catv : Vehicle Category :\n",
    "    - 00 - Undetermined\n",
    "    - 01 - Bicycle\n",
    "    - 02 - Moped <50cm3\n",
    "    - 03 - Carriage (Motorized quadricycle with bodywork) (formerly \"motorized cart or tricycle\")\n",
    "    - 04 - Unused reference since 2006 (registered scooter)\n",
    "    - 05 - Unused reference since 2006 (Motorcycle)\n",
    "    - 06 - Unused reference since 2006 (sidecar)\n",
    "    - 07 - LV only\n",
    "    - 08 - Unused reference since 2006 (LV + caravan)\n",
    "    - 09 - Unused reference since 2006 (LV + trailer)\n",
    "    - 10 - LCV only 1,5T <= GVWR <= 3,5T with or without trailer (formerly LCV only 1,5T <= GVWR <= 3,5T)\n",
    "    - 11 - Reference unused since 2006 (LCV (10) + trailer)\n",
    "    - 12 - Reference unused since 2006 (LCV (10) + trailer)\n",
    "    - 13 - Truck only 3,5T <PTCA <= 7,5T\n",
    "    - 14 - Truck only > 7.5T\n",
    "    - 15 - Truck > 3.5T + trailer\n",
    "    - 16 - Road tractor alone\n",
    "    - 17 - Road tractor + semi-trailer\n",
    "    - 18 - Reference not used since 2006 (public transport)\n",
    "    - 19 - Reference not used since 2006 (tramway)\n",
    "    - 20 - Special machine\n",
    "    - 21 - Agricultural tractor\n",
    "    - 30 - Scooter < 50 cm3\n",
    "    - 31 - Motorcycle > 50 cm3 and <= 125 cm3\n",
    "    - 32 - Scooter > 50 cm3 and <= 125 cm3\n",
    "    - 33 - Motorcycle > 125 cm3\n",
    "    - 34 - Scooter > 125 cm3\n",
    "    - 35 - Light quad bike <= 50 cm3 (Motor quad bike without body)\n",
    "    - 36 - Heavy quad > 50 cm3 (Quadricycle without body)\n",
    "    - 37 - Bus\n",
    "    - 38 - Coach\n",
    "    - 39 - Train\n",
    "    - 40 - Tramway\n",
    "    - 41 - 3WD <= 50 cm3\n",
    "    - 42 - 3WD > 50 cm3 <= 125 cm3\n",
    "    - 43 - 3WD > 125 cm3\n",
    "    - 50 - Motorized EDP\n",
    "    - 60 - EDP without motor\n",
    "    - 80 - EAB\n",
    "    - 99 - Other vehicle\n",
    "- obs : Fixed obstacle hit: \n",
    "    - -1 - Not known\n",
    "    - 0 - Not applicable\n",
    "    - 1 - Parked vehicle\n",
    "    - 2 - Tree\n",
    "    - 3 - Metal guardrail\n",
    "    - 4 - Concrete barrier\n",
    "    - 5 - Other guardrail\n",
    "    - 6 - Building, wall, bridge pier\n",
    "    - 7 - Vertical signage support or emergency call station\n",
    "    - 8 - Post\n",
    "    - 9 - Street furniture\n",
    "    - 10 - Parapet\n",
    "    - 11 - Island, refuge, high bollard\n",
    "    - 12 - Sidewalk curb\n",
    "    - 13 - Ditch, embankment, rock wall\n",
    "    - 14 - Other fixed obstacle on roadway\n",
    "    - 15 - Other fixed obstacle on sidewalk or shoulder\n",
    "    - 16 - Roadway exit without obstacle\n",
    "    - 17 - Nozzle - aqueduct head\n",
    "- obsm : Mobile obstacle hit: \n",
    "    - -1 - Not known\n",
    "    - 0 - None\n",
    "    - 1 - Pedestrian\n",
    "    - 2 - Vehicle\n",
    "    - 4 - Vehicle on rail\n",
    "    - 5 - Domestic animal 6 - Wild animal\n",
    "    - 9 - Other\n",
    "- choc : shock : Initial point of impact: \n",
    "    - -1 - Unknown 0 - None\n",
    "    - 1 - Front\n",
    "    - 2 - Right front\n",
    "    - 3 - Front left \n",
    "    - 4 - Rear Overall amount of coverage for the accident: related to bodily injury insurance and\n",
    "    - 5 - Right rear material\n",
    "    - 6 - Left rear\n",
    "    - 7 - Right side\n",
    "    - 8 - Left side\n",
    "    - 9 - Multiple shocks (rolls)\n",
    "- manv : Main maneuver before the accident : \n",
    "    - -1 - Unknown\n",
    "    - 0 - Unknown\n",
    "    - 1 - No change in direction\n",
    "    - 2 - Same direction, same lane\n",
    "    - 3 - Between 2 lanes\n",
    "    - 4 – Reversing\n",
    "    - 5 - Going the wrong way\n",
    "    - 6 - When crossing the median\n",
    "    - 7 - In the bus lane, in the same direction\n",
    "    - 8 - In the bus lane, in the opposite direction\n",
    "    - 9 - By inserting yourself\n",
    "    - 10 - Turning around on the roadway Changing lanes\n",
    "    - 11 - To the left\n",
    "    - 12 - To the right Offset\n",
    "    - 13 - To the left\n",
    "    - 14 - To the right Turning\n",
    "    - 15 - Left\n",
    "    - 16 - To the right Overtaking\n",
    "    - 17 - Left\n",
    "    - 18 - To the right Various\n",
    "    - 19 - Crossing the road\n",
    "    - 20 - Parking maneuver\n",
    "    - 21 - Evasive maneuver\n",
    "    - 22 - Opening a door\n",
    "    - 23 - Stopped (not parking)\n",
    "    - 24 - Parked (with occupants) 25 - Riding on sidewalk\n",
    "    - 26 - Other maneuvers\n",
    "- motor : Type of motorization of the vehicle :\n",
    "    - -1 - Not known\n",
    "    - 0 - Unknown\n",
    "    - 1 - Hydrocarbon\n",
    "    - 2 - Hybrid electric 3 - Electric\n",
    "    - 4 - Hydrogen 5 - Human\n",
    "    - 6 - Other\n",
    "- occutc : Number of occupants in the transit. Overall amount of coverage for the accident: related to liability insurance bodily injury and\n",
    "- Vit : approximate speed of the vehicle material"
   ]
  },
  {
   "cell_type": "markdown",
   "id": "3a9211ad",
   "metadata": {},
   "source": [
    "### Places\n",
    "\n",
    "- Num_Acc : Accident ID\n",
    "- catr : Category of road:\n",
    "    - 1 - Highway\n",
    "    - 2 - National Road\n",
    "    - 3 - Departmental Road\n",
    "    - 4 - Communal Way\n",
    "    - 5 - Off public network\n",
    "    - 6 - Parking lot open to public traffic\n",
    "    - 9 - other\n",
    "- voie : Road Number\n",
    "- V1: Numeric index of the route number (example: 2 bis, 3 ter etc.)\n",
    "- V2: Letter alphanumeric index of the road\n",
    "- circ: Traffic regime:\n",
    "    - 1 - One way\n",
    "    - 2 - Bidirectional\n",
    "    - 3 - Separated carriageways\n",
    "    - 4 - With variable assignment channels\n",
    "- nbv: Total number of traffic lanes\n",
    "- vosp: Indicates the existence of a reserved lane, regardless of whether or not the accident occurs on that lane.\n",
    "    - 1 - Bike path\n",
    "    - 2 - Cycle Bank\n",
    "    - 3 - Reserved channel\n",
    "- Prof: Longitudinal profile describes the gradient of the road at the accident site\n",
    "    - 1 - Dish\n",
    "    - 2 - Slope\n",
    "    - 3 - Hilltop\n",
    "    - 4- Hill bottom\n",
    "- pr: Home PR number (upstream terminal number)\n",
    "- pr1: Distance in meters to the PR (relative to the upstream terminal)\n",
    "- plan: Drawing in plan:\n",
    "    - 1 - Straight part\n",
    "    - 2 - Curved on the left\n",
    "    - 3 - Curved right\n",
    "    - 4 - In \"S\"\n",
    "- lartpc: Central solid land width (TPC) if there is\n",
    "- larrout: Width of the roadway assigned to vehicle traffic are not included the emergency stop strips, CPRs and parking spaces\n",
    "- surf: surface condition\n",
    "    - 1 - normal\n",
    "    - 2 - wet\n",
    "    - 3 - puddles\n",
    "    - 4 - flooded\n",
    "    - 5 - snow\n",
    "    - 6 - mud\n",
    "    - 7 - icy\n",
    "    - 8 - fat - oil\n",
    "    - 9 - other\n",
    "- infra: Development - Infrastructure:\n",
    "    - 1 - Underground - tunnel\n",
    "    - 2 - Bridge - autopont\n",
    "    - 3 - Exchanger or connection brace\n",
    "    - 4 - Railway\n",
    "    - 5 - Carrefour arranged\n",
    "    - 6 - Pedestrian area\n",
    "    - 7 - Toll zone\n",
    "- situ: Situation of the accident:\n",
    "    - 1 - On the road\n",
    "    - 2 - On emergency stop band\n",
    "    - 3 - On the verge\n",
    "    - 4 - On the sidewalk\n",
    "    - 5 - On bike path\n",
    "- vma : Maximum authorized speed at the place and time of the accident."
   ]
  },
  {
   "cell_type": "markdown",
   "id": "c1b69452",
   "metadata": {},
   "source": [
    "### USERS\n",
    "\n",
    "- Num_Acc :  Identifier of the accident identical to the one in the \"CHARACTERISTICS\" file for each of the described users involved in the accident.\n",
    "- id_vehicle : Unique identifier of the vehicle used for each of the users occupying this vehicle (including pedestrians who are attached to the vehicles that hit them) - Numeric code.\n",
    "- Num_Veh : Identifier of the vehicle taken over for each of the users occupying this vehicle (including pedestrians who are attached to the vehicles that hit them) - Alphanumeric code.\n",
    "- place : Allows you to locate the place occupied by the user in the vehicle at the time of the accident. The detail is given in the illustration below:\n",
    "    - 10 - Pedestrian (not applicable)\n",
    "- catu : User category: \n",
    "    - 1 - Driver\n",
    "    - 2 - Passenger\n",
    "    - 3 - Pedestrian\n",
    "- grav : Severity of injury of the user, the accident victims are classified into three categories of victims plus the uninjured:\n",
    "    - 1 - Uninjured\n",
    "    - 2 - Killed\n",
    "    - 3 - Injured in hospital \n",
    "    - 4 - Slightly injured gender\n",
    "- sexe  : Gender of the user: \n",
    "    - 1 - Male\n",
    "    - 2 - Female\n",
    "- an_nais : Year of birth of the user\n",
    "- trajet : trip: Reason for traveling at the time of the accident:\n",
    "    - 1 - Home - work\n",
    "    - 2 - Home - school\n",
    "    - 3 - Shopping - Shopping\n",
    "    - 4 - Professional use\n",
    "    - 5 - Promenade - leisure\n",
    "    - 9 - Other\n",
    "\n",
    "Safety equipment until 2018 was in 2 variables: existence and use. From 2019, it is the use with up to 3 possible equipments for the same user (especially for motorcyclists whose helmet and gloves are mandatory).\n",
    "- secu1 : The character indicates the presence and use of safety equipment: -1 - Not specified\n",
    "    - 0 - No equipment\n",
    "    - 1 - Belt\n",
    "    - 2 - Helmet\n",
    "    - 3 - Children's device\n",
    "    - 4 - Reflective vest\n",
    "    - 5 - Airbag (2WD/3WD)\n",
    "    - 6 - Gloves (2WD/3WD)\n",
    "    - 7 - Gloves + Airbag (2WD/3WD) 8 - Not determinable\n",
    "    - 9 - Other\n",
    "- secu2 : The character indicates the presence and use of safety equipment: -1 - Not specified\n",
    "    - 0 - No equipment\n",
    "    - 1 - Belt\n",
    "    - 2 - Helmet\n",
    "    - 3 - Children's device\n",
    "    - 4 - Reflective vest\n",
    "    - 5 - Airbag (2WD/3WD)\n",
    "    - 6 - Gloves (2WD/3WD)\n",
    "    - 7 - Gloves + Airbag (2WD/3WD) 8 - Not determinable\n",
    "    - 9 - Other\n",
    "- secu3 : The character indicates the presence and use of safety equipment: -1 - Not specified\n",
    "    - 0 - No equipment\n",
    "    - 1 - Belt\n",
    "    - 2 - Helmet\n",
    "    - 3 - Children's device\n",
    "    - 4 - Reflective vest\n",
    "    - 5 - Airbag (2WD/3WD)\n",
    "    - 6 - Gloves (2WD/3WD)\n",
    "    - 7 - Gloves + Airbag (2WD/3WD) 8 - Not determinable\n",
    "    - 9 - Other\n",
    "- locp : Location of the pedestrian: \n",
    "    - -1 - Not known\n",
    "    - 0 - Not applicable On roadway :\n",
    "    - 1 - At + 50 m from the crosswalk 2 - At - 50 m from the crosswalk On crosswalk:\n",
    "    - 3 - Without traffic light 4 - With traffic light Other :\n",
    "    - 5 - On sidewalk\n",
    "    - 6 - On shoulder\n",
    "    - 7 - On refuge or BAU \n",
    "    - 8 - On back lane\n",
    "    - 9 - Unknown\n",
    "- actp : Pedestrian action : Moving\n",
    "    - -1 - Unknown\n",
    "    - 0 - Unknown or not applicable 1 - Direction of vehicle striking\n",
    "    - 2 - Opposite direction of vehicle Other\n",
    "    - 3 - Crossing\n",
    "    - 4 - Hidden\n",
    "    - 5 - Playing - running\n",
    "    - 6 - With animal\n",
    "    - 9 - Other\n",
    "    - A - Getting in/out of vehicle \n",
    "    - B - Unknown\n",
    "- etatp : This variable is used to indicate whether or not the injured pedestrian was alone: \n",
    "    - -1 - Not known\n",
    "    - 1 - Alone\n",
    "    - 2 - Accompanied\n",
    "    - 3 - In a group\n",
    "\n",
    "\n",
    "#### The PickUp field\n",
    "- Num_Acc: Identifier of the accident identical to the one in the \"CHARACTERISTICS\" file for each of the described users involved in the accident.\n",
    "\n",
    "- PriseEnCharge : Overall amount of the accident taken in charge: relating to civil liability, bodily injury and material damage insurance, when responsibility for the accident is defined (cost of various operations following the accident: interventions, renovations, bodily injury and material damage caused to third parties, etc.)"
   ]
  },
  {
   "cell_type": "markdown",
   "id": "c39e926f",
   "metadata": {},
   "source": [
    "# Importing Libraries"
   ]
  },
  {
   "cell_type": "code",
   "execution_count": 1,
   "id": "acd25d92",
   "metadata": {},
   "outputs": [
    {
     "data": {
      "text/html": [
       "        <script type=\"text/javascript\">\n",
       "        window.PlotlyConfig = {MathJaxConfig: 'local'};\n",
       "        if (window.MathJax) {MathJax.Hub.Config({SVG: {font: \"STIX-Web\"}});}\n",
       "        if (typeof require !== 'undefined') {\n",
       "        require.undef(\"plotly\");\n",
       "        requirejs.config({\n",
       "            paths: {\n",
       "                'plotly': ['https://cdn.plot.ly/plotly-2.9.0.min']\n",
       "            }\n",
       "        });\n",
       "        require(['plotly'], function(Plotly) {\n",
       "            window._Plotly = Plotly;\n",
       "        });\n",
       "        }\n",
       "        </script>\n",
       "        "
      ]
     },
     "metadata": {},
     "output_type": "display_data"
    }
   ],
   "source": [
    "# linear algebra\n",
    "import numpy as np \n",
    "\n",
    "# data processing\n",
    "import pandas as pd \n",
    "\n",
    "# data visualization\n",
    "import plotly\n",
    "import plotly.offline as plt\n",
    "import plotly.graph_objs as go\n",
    "import plotly.figure_factory as ff\n",
    "\n",
    "import seaborn as sns\n",
    "import matplotlib as mplt\n",
    "from matplotlib import pyplot as plt\n",
    "\n",
    "from matplotlib import style\n",
    "\n",
    "%matplotlib inline\n",
    "plotly.offline.init_notebook_mode(connected=True)"
   ]
  },
  {
   "cell_type": "markdown",
   "id": "1be79473",
   "metadata": {},
   "source": [
    "# Impotring Dataset"
   ]
  },
  {
   "cell_type": "code",
   "execution_count": 2,
   "id": "fee3d0ac",
   "metadata": {},
   "outputs": [],
   "source": [
    "characteristics = pd.read_csv('characteristics_2020.csv', encoding = \"ISO-8859-1\", low_memory=False)\n",
    "places = pd.read_csv('places_2020.csv', low_memory=False)\n",
    "users = pd.read_csv('users_2020.csv',low_memory=False)\n",
    "vehicles = pd.read_csv('vehicles_2020.csv', low_memory=False)"
   ]
  },
  {
   "cell_type": "markdown",
   "id": "4897c0fc",
   "metadata": {},
   "source": [
    "Before starting any preprocessing on the data, it is important to have a first visualization of its size, type, and content\n",
    "\n",
    "Lets check the data types of the columns in these files"
   ]
  },
  {
   "cell_type": "code",
   "execution_count": 3,
   "id": "fb964389",
   "metadata": {},
   "outputs": [
    {
     "name": "stdout",
     "output_type": "stream",
     "text": [
      "<class 'pandas.core.frame.DataFrame'>\n",
      "RangeIndex: 9819 entries, 0 to 9818\n",
      "Data columns (total 15 columns):\n",
      " #   Column   Non-Null Count  Dtype  \n",
      "---  ------   --------------  -----  \n",
      " 0   Num_Acc  9819 non-null   object \n",
      " 1   jour     9819 non-null   int64  \n",
      " 2   mois     9819 non-null   int64  \n",
      " 3   an       9819 non-null   int64  \n",
      " 4   hrmn     9819 non-null   int64  \n",
      " 5   lum      9819 non-null   int64  \n",
      " 6   dep      9819 non-null   int64  \n",
      " 7   com      9815 non-null   object \n",
      " 8   agg      9819 non-null   int64  \n",
      " 9   int      9819 non-null   int64  \n",
      " 10  atm      9819 non-null   int64  \n",
      " 11  col      9819 non-null   int64  \n",
      " 12  adr      9760 non-null   object \n",
      " 13  lat      9819 non-null   float64\n",
      " 14  long     9819 non-null   float64\n",
      "dtypes: float64(2), int64(10), object(3)\n",
      "memory usage: 1.1+ MB\n"
     ]
    },
    {
     "data": {
      "text/html": [
       "<div>\n",
       "<style scoped>\n",
       "    .dataframe tbody tr th:only-of-type {\n",
       "        vertical-align: middle;\n",
       "    }\n",
       "\n",
       "    .dataframe tbody tr th {\n",
       "        vertical-align: top;\n",
       "    }\n",
       "\n",
       "    .dataframe thead th {\n",
       "        text-align: right;\n",
       "    }\n",
       "</style>\n",
       "<table border=\"1\" class=\"dataframe\">\n",
       "  <thead>\n",
       "    <tr style=\"text-align: right;\">\n",
       "      <th></th>\n",
       "      <th>jour</th>\n",
       "      <th>mois</th>\n",
       "      <th>an</th>\n",
       "      <th>hrmn</th>\n",
       "      <th>lum</th>\n",
       "      <th>dep</th>\n",
       "      <th>agg</th>\n",
       "      <th>int</th>\n",
       "      <th>atm</th>\n",
       "      <th>col</th>\n",
       "      <th>lat</th>\n",
       "      <th>long</th>\n",
       "    </tr>\n",
       "  </thead>\n",
       "  <tbody>\n",
       "    <tr>\n",
       "      <th>count</th>\n",
       "      <td>9819.000000</td>\n",
       "      <td>9819.000000</td>\n",
       "      <td>9819.0</td>\n",
       "      <td>9819.000000</td>\n",
       "      <td>9819.000000</td>\n",
       "      <td>9819.000000</td>\n",
       "      <td>9819.000000</td>\n",
       "      <td>9819.000000</td>\n",
       "      <td>9819.000000</td>\n",
       "      <td>9819.000000</td>\n",
       "      <td>9819.000000</td>\n",
       "      <td>9819.000000</td>\n",
       "    </tr>\n",
       "    <tr>\n",
       "      <th>mean</th>\n",
       "      <td>17.625420</td>\n",
       "      <td>6.695794</td>\n",
       "      <td>2020.0</td>\n",
       "      <td>840.227824</td>\n",
       "      <td>1.929626</td>\n",
       "      <td>111.504023</td>\n",
       "      <td>1.645585</td>\n",
       "      <td>2.068133</td>\n",
       "      <td>1.553111</td>\n",
       "      <td>3.896629</td>\n",
       "      <td>44.056885</td>\n",
       "      <td>207.796022</td>\n",
       "    </tr>\n",
       "    <tr>\n",
       "      <th>std</th>\n",
       "      <td>8.221956</td>\n",
       "      <td>3.223499</td>\n",
       "      <td>0.0</td>\n",
       "      <td>331.822449</td>\n",
       "      <td>1.503929</td>\n",
       "      <td>217.520538</td>\n",
       "      <td>0.478360</td>\n",
       "      <td>2.033369</td>\n",
       "      <td>1.597610</td>\n",
       "      <td>2.128345</td>\n",
       "      <td>12.983916</td>\n",
       "      <td>12297.869275</td>\n",
       "    </tr>\n",
       "    <tr>\n",
       "      <th>min</th>\n",
       "      <td>1.000000</td>\n",
       "      <td>1.000000</td>\n",
       "      <td>2020.0</td>\n",
       "      <td>0.000000</td>\n",
       "      <td>-1.000000</td>\n",
       "      <td>1.000000</td>\n",
       "      <td>1.000000</td>\n",
       "      <td>1.000000</td>\n",
       "      <td>-1.000000</td>\n",
       "      <td>-1.000000</td>\n",
       "      <td>-23.868998</td>\n",
       "      <td>-176.190191</td>\n",
       "    </tr>\n",
       "    <tr>\n",
       "      <th>25%</th>\n",
       "      <td>14.000000</td>\n",
       "      <td>5.000000</td>\n",
       "      <td>2020.0</td>\n",
       "      <td>600.000000</td>\n",
       "      <td>1.000000</td>\n",
       "      <td>34.000000</td>\n",
       "      <td>1.000000</td>\n",
       "      <td>1.000000</td>\n",
       "      <td>1.000000</td>\n",
       "      <td>2.000000</td>\n",
       "      <td>44.626759</td>\n",
       "      <td>1.432972</td>\n",
       "    </tr>\n",
       "    <tr>\n",
       "      <th>50%</th>\n",
       "      <td>19.000000</td>\n",
       "      <td>7.000000</td>\n",
       "      <td>2020.0</td>\n",
       "      <td>895.000000</td>\n",
       "      <td>1.000000</td>\n",
       "      <td>69.000000</td>\n",
       "      <td>2.000000</td>\n",
       "      <td>1.000000</td>\n",
       "      <td>1.000000</td>\n",
       "      <td>3.000000</td>\n",
       "      <td>47.814700</td>\n",
       "      <td>2.410027</td>\n",
       "    </tr>\n",
       "    <tr>\n",
       "      <th>75%</th>\n",
       "      <td>23.000000</td>\n",
       "      <td>9.000000</td>\n",
       "      <td>2020.0</td>\n",
       "      <td>1095.000000</td>\n",
       "      <td>3.000000</td>\n",
       "      <td>87.500000</td>\n",
       "      <td>2.000000</td>\n",
       "      <td>2.000000</td>\n",
       "      <td>1.000000</td>\n",
       "      <td>6.000000</td>\n",
       "      <td>48.863727</td>\n",
       "      <td>4.842574</td>\n",
       "    </tr>\n",
       "    <tr>\n",
       "      <th>max</th>\n",
       "      <td>31.000000</td>\n",
       "      <td>12.000000</td>\n",
       "      <td>2020.0</td>\n",
       "      <td>1437.000000</td>\n",
       "      <td>5.000000</td>\n",
       "      <td>988.000000</td>\n",
       "      <td>2.000000</td>\n",
       "      <td>9.000000</td>\n",
       "      <td>9.000000</td>\n",
       "      <td>7.000000</td>\n",
       "      <td>51.466183</td>\n",
       "      <td>889373.200000</td>\n",
       "    </tr>\n",
       "  </tbody>\n",
       "</table>\n",
       "</div>"
      ],
      "text/plain": [
       "              jour         mois      an         hrmn          lum  \\\n",
       "count  9819.000000  9819.000000  9819.0  9819.000000  9819.000000   \n",
       "mean     17.625420     6.695794  2020.0   840.227824     1.929626   \n",
       "std       8.221956     3.223499     0.0   331.822449     1.503929   \n",
       "min       1.000000     1.000000  2020.0     0.000000    -1.000000   \n",
       "25%      14.000000     5.000000  2020.0   600.000000     1.000000   \n",
       "50%      19.000000     7.000000  2020.0   895.000000     1.000000   \n",
       "75%      23.000000     9.000000  2020.0  1095.000000     3.000000   \n",
       "max      31.000000    12.000000  2020.0  1437.000000     5.000000   \n",
       "\n",
       "               dep          agg          int          atm          col  \\\n",
       "count  9819.000000  9819.000000  9819.000000  9819.000000  9819.000000   \n",
       "mean    111.504023     1.645585     2.068133     1.553111     3.896629   \n",
       "std     217.520538     0.478360     2.033369     1.597610     2.128345   \n",
       "min       1.000000     1.000000     1.000000    -1.000000    -1.000000   \n",
       "25%      34.000000     1.000000     1.000000     1.000000     2.000000   \n",
       "50%      69.000000     2.000000     1.000000     1.000000     3.000000   \n",
       "75%      87.500000     2.000000     2.000000     1.000000     6.000000   \n",
       "max     988.000000     2.000000     9.000000     9.000000     7.000000   \n",
       "\n",
       "               lat           long  \n",
       "count  9819.000000    9819.000000  \n",
       "mean     44.056885     207.796022  \n",
       "std      12.983916   12297.869275  \n",
       "min     -23.868998    -176.190191  \n",
       "25%      44.626759       1.432972  \n",
       "50%      47.814700       2.410027  \n",
       "75%      48.863727       4.842574  \n",
       "max      51.466183  889373.200000  "
      ]
     },
     "execution_count": 3,
     "metadata": {},
     "output_type": "execute_result"
    }
   ],
   "source": [
    "characteristics.info()\n",
    "characteristics.describe()"
   ]
  },
  {
   "cell_type": "code",
   "execution_count": 4,
   "id": "3cbcc96f",
   "metadata": {},
   "outputs": [
    {
     "name": "stdout",
     "output_type": "stream",
     "text": [
      "<class 'pandas.core.frame.DataFrame'>\n",
      "RangeIndex: 105295 entries, 0 to 105294\n",
      "Data columns (total 15 columns):\n",
      " #   Column       Non-Null Count   Dtype  \n",
      "---  ------       --------------   -----  \n",
      " 0   Num_Acc      105295 non-null  object \n",
      " 1   id_vehicule  105295 non-null  object \n",
      " 2   num_veh      105295 non-null  object \n",
      " 3   place        105295 non-null  int64  \n",
      " 4   catu         105295 non-null  int64  \n",
      " 5   grav         105295 non-null  int64  \n",
      " 6   sexe         105295 non-null  int64  \n",
      " 7   an_nais      103556 non-null  float64\n",
      " 8   trajet       105295 non-null  int64  \n",
      " 9   secu1        105295 non-null  int64  \n",
      " 10  secu2        105295 non-null  int64  \n",
      " 11  secu3        105295 non-null  int64  \n",
      " 12  locp         105295 non-null  int64  \n",
      " 13  actp         105295 non-null  object \n",
      " 14  etatp        105295 non-null  int64  \n",
      "dtypes: float64(1), int64(10), object(4)\n",
      "memory usage: 12.1+ MB\n"
     ]
    },
    {
     "data": {
      "text/html": [
       "<div>\n",
       "<style scoped>\n",
       "    .dataframe tbody tr th:only-of-type {\n",
       "        vertical-align: middle;\n",
       "    }\n",
       "\n",
       "    .dataframe tbody tr th {\n",
       "        vertical-align: top;\n",
       "    }\n",
       "\n",
       "    .dataframe thead th {\n",
       "        text-align: right;\n",
       "    }\n",
       "</style>\n",
       "<table border=\"1\" class=\"dataframe\">\n",
       "  <thead>\n",
       "    <tr style=\"text-align: right;\">\n",
       "      <th></th>\n",
       "      <th>place</th>\n",
       "      <th>catu</th>\n",
       "      <th>grav</th>\n",
       "      <th>sexe</th>\n",
       "      <th>an_nais</th>\n",
       "      <th>trajet</th>\n",
       "      <th>secu1</th>\n",
       "      <th>secu2</th>\n",
       "      <th>secu3</th>\n",
       "      <th>locp</th>\n",
       "      <th>etatp</th>\n",
       "    </tr>\n",
       "  </thead>\n",
       "  <tbody>\n",
       "    <tr>\n",
       "      <th>count</th>\n",
       "      <td>105295.000000</td>\n",
       "      <td>105295.000000</td>\n",
       "      <td>105295.000000</td>\n",
       "      <td>105295.000000</td>\n",
       "      <td>103556.000000</td>\n",
       "      <td>105295.000000</td>\n",
       "      <td>105295.000000</td>\n",
       "      <td>105295.000000</td>\n",
       "      <td>105295.000000</td>\n",
       "      <td>105295.000000</td>\n",
       "      <td>105295.000000</td>\n",
       "    </tr>\n",
       "    <tr>\n",
       "      <th>mean</th>\n",
       "      <td>2.097108</td>\n",
       "      <td>1.335866</td>\n",
       "      <td>2.555145</td>\n",
       "      <td>1.311857</td>\n",
       "      <td>1981.587489</td>\n",
       "      <td>3.293813</td>\n",
       "      <td>1.919303</td>\n",
       "      <td>1.229679</td>\n",
       "      <td>-0.916207</td>\n",
       "      <td>-0.234000</td>\n",
       "      <td>-0.827114</td>\n",
       "    </tr>\n",
       "    <tr>\n",
       "      <th>std</th>\n",
       "      <td>2.600125</td>\n",
       "      <td>0.616144</td>\n",
       "      <td>1.369505</td>\n",
       "      <td>0.463254</td>\n",
       "      <td>18.709387</td>\n",
       "      <td>2.754881</td>\n",
       "      <td>2.263803</td>\n",
       "      <td>3.189945</td>\n",
       "      <td>0.890023</td>\n",
       "      <td>1.219602</td>\n",
       "      <td>0.616604</td>\n",
       "    </tr>\n",
       "    <tr>\n",
       "      <th>min</th>\n",
       "      <td>1.000000</td>\n",
       "      <td>1.000000</td>\n",
       "      <td>1.000000</td>\n",
       "      <td>1.000000</td>\n",
       "      <td>1900.000000</td>\n",
       "      <td>-1.000000</td>\n",
       "      <td>-1.000000</td>\n",
       "      <td>-1.000000</td>\n",
       "      <td>-1.000000</td>\n",
       "      <td>-1.000000</td>\n",
       "      <td>-1.000000</td>\n",
       "    </tr>\n",
       "    <tr>\n",
       "      <th>25%</th>\n",
       "      <td>1.000000</td>\n",
       "      <td>1.000000</td>\n",
       "      <td>1.000000</td>\n",
       "      <td>1.000000</td>\n",
       "      <td>1969.000000</td>\n",
       "      <td>0.000000</td>\n",
       "      <td>1.000000</td>\n",
       "      <td>-1.000000</td>\n",
       "      <td>-1.000000</td>\n",
       "      <td>-1.000000</td>\n",
       "      <td>-1.000000</td>\n",
       "    </tr>\n",
       "    <tr>\n",
       "      <th>50%</th>\n",
       "      <td>1.000000</td>\n",
       "      <td>1.000000</td>\n",
       "      <td>3.000000</td>\n",
       "      <td>1.000000</td>\n",
       "      <td>1985.000000</td>\n",
       "      <td>4.000000</td>\n",
       "      <td>1.000000</td>\n",
       "      <td>0.000000</td>\n",
       "      <td>-1.000000</td>\n",
       "      <td>0.000000</td>\n",
       "      <td>-1.000000</td>\n",
       "    </tr>\n",
       "    <tr>\n",
       "      <th>75%</th>\n",
       "      <td>2.000000</td>\n",
       "      <td>2.000000</td>\n",
       "      <td>4.000000</td>\n",
       "      <td>2.000000</td>\n",
       "      <td>1997.000000</td>\n",
       "      <td>5.000000</td>\n",
       "      <td>2.000000</td>\n",
       "      <td>0.000000</td>\n",
       "      <td>-1.000000</td>\n",
       "      <td>0.000000</td>\n",
       "      <td>-1.000000</td>\n",
       "    </tr>\n",
       "    <tr>\n",
       "      <th>max</th>\n",
       "      <td>10.000000</td>\n",
       "      <td>3.000000</td>\n",
       "      <td>4.000000</td>\n",
       "      <td>2.000000</td>\n",
       "      <td>2020.000000</td>\n",
       "      <td>9.000000</td>\n",
       "      <td>9.000000</td>\n",
       "      <td>9.000000</td>\n",
       "      <td>9.000000</td>\n",
       "      <td>9.000000</td>\n",
       "      <td>3.000000</td>\n",
       "    </tr>\n",
       "  </tbody>\n",
       "</table>\n",
       "</div>"
      ],
      "text/plain": [
       "               place           catu           grav           sexe  \\\n",
       "count  105295.000000  105295.000000  105295.000000  105295.000000   \n",
       "mean        2.097108       1.335866       2.555145       1.311857   \n",
       "std         2.600125       0.616144       1.369505       0.463254   \n",
       "min         1.000000       1.000000       1.000000       1.000000   \n",
       "25%         1.000000       1.000000       1.000000       1.000000   \n",
       "50%         1.000000       1.000000       3.000000       1.000000   \n",
       "75%         2.000000       2.000000       4.000000       2.000000   \n",
       "max        10.000000       3.000000       4.000000       2.000000   \n",
       "\n",
       "             an_nais         trajet          secu1          secu2  \\\n",
       "count  103556.000000  105295.000000  105295.000000  105295.000000   \n",
       "mean     1981.587489       3.293813       1.919303       1.229679   \n",
       "std        18.709387       2.754881       2.263803       3.189945   \n",
       "min      1900.000000      -1.000000      -1.000000      -1.000000   \n",
       "25%      1969.000000       0.000000       1.000000      -1.000000   \n",
       "50%      1985.000000       4.000000       1.000000       0.000000   \n",
       "75%      1997.000000       5.000000       2.000000       0.000000   \n",
       "max      2020.000000       9.000000       9.000000       9.000000   \n",
       "\n",
       "               secu3           locp          etatp  \n",
       "count  105295.000000  105295.000000  105295.000000  \n",
       "mean       -0.916207      -0.234000      -0.827114  \n",
       "std         0.890023       1.219602       0.616604  \n",
       "min        -1.000000      -1.000000      -1.000000  \n",
       "25%        -1.000000      -1.000000      -1.000000  \n",
       "50%        -1.000000       0.000000      -1.000000  \n",
       "75%        -1.000000       0.000000      -1.000000  \n",
       "max         9.000000       9.000000       3.000000  "
      ]
     },
     "execution_count": 4,
     "metadata": {},
     "output_type": "execute_result"
    }
   ],
   "source": [
    "users.info()\n",
    "users.describe()"
   ]
  },
  {
   "cell_type": "code",
   "execution_count": 5,
   "id": "9984b1e4",
   "metadata": {},
   "outputs": [
    {
     "name": "stdout",
     "output_type": "stream",
     "text": [
      "<class 'pandas.core.frame.DataFrame'>\n",
      "RangeIndex: 47773 entries, 0 to 47772\n",
      "Data columns (total 18 columns):\n",
      " #   Column   Non-Null Count  Dtype  \n",
      "---  ------   --------------  -----  \n",
      " 0   Num_Acc  47773 non-null  object \n",
      " 1   catr     47773 non-null  int64  \n",
      " 2   voie     36839 non-null  object \n",
      " 3   v1       47773 non-null  int64  \n",
      " 4   v2       2865 non-null   object \n",
      " 5   circ     47773 non-null  int64  \n",
      " 6   nbv      47773 non-null  int64  \n",
      " 7   vosp     47773 non-null  int64  \n",
      " 8   prof     47773 non-null  int64  \n",
      " 9   pr       47773 non-null  int64  \n",
      " 10  pr1      47773 non-null  int64  \n",
      " 11  plan     47773 non-null  int64  \n",
      " 12  lartpc   178 non-null    float64\n",
      " 13  larrout  47773 non-null  float64\n",
      " 14  surf     47773 non-null  int64  \n",
      " 15  infra    47773 non-null  int64  \n",
      " 16  situ     47773 non-null  int64  \n",
      " 17  vma      47773 non-null  int64  \n",
      "dtypes: float64(2), int64(13), object(3)\n",
      "memory usage: 6.6+ MB\n"
     ]
    },
    {
     "data": {
      "text/html": [
       "<div>\n",
       "<style scoped>\n",
       "    .dataframe tbody tr th:only-of-type {\n",
       "        vertical-align: middle;\n",
       "    }\n",
       "\n",
       "    .dataframe tbody tr th {\n",
       "        vertical-align: top;\n",
       "    }\n",
       "\n",
       "    .dataframe thead th {\n",
       "        text-align: right;\n",
       "    }\n",
       "</style>\n",
       "<table border=\"1\" class=\"dataframe\">\n",
       "  <thead>\n",
       "    <tr style=\"text-align: right;\">\n",
       "      <th></th>\n",
       "      <th>catr</th>\n",
       "      <th>v1</th>\n",
       "      <th>circ</th>\n",
       "      <th>nbv</th>\n",
       "      <th>vosp</th>\n",
       "      <th>prof</th>\n",
       "      <th>pr</th>\n",
       "      <th>pr1</th>\n",
       "      <th>plan</th>\n",
       "      <th>lartpc</th>\n",
       "      <th>larrout</th>\n",
       "      <th>surf</th>\n",
       "      <th>infra</th>\n",
       "      <th>situ</th>\n",
       "      <th>vma</th>\n",
       "    </tr>\n",
       "  </thead>\n",
       "  <tbody>\n",
       "    <tr>\n",
       "      <th>count</th>\n",
       "      <td>47773.000000</td>\n",
       "      <td>47773.000000</td>\n",
       "      <td>47773.000000</td>\n",
       "      <td>47773.000000</td>\n",
       "      <td>47773.000000</td>\n",
       "      <td>47773.000000</td>\n",
       "      <td>47773.000000</td>\n",
       "      <td>47773.000000</td>\n",
       "      <td>47773.000000</td>\n",
       "      <td>178.000000</td>\n",
       "      <td>47773.000000</td>\n",
       "      <td>47773.000000</td>\n",
       "      <td>47773.000000</td>\n",
       "      <td>47773.000000</td>\n",
       "      <td>47773.000000</td>\n",
       "    </tr>\n",
       "    <tr>\n",
       "      <th>mean</th>\n",
       "      <td>3.297595</td>\n",
       "      <td>-0.178134</td>\n",
       "      <td>1.818810</td>\n",
       "      <td>2.378436</td>\n",
       "      <td>0.177736</td>\n",
       "      <td>1.246520</td>\n",
       "      <td>15.383627</td>\n",
       "      <td>179.243820</td>\n",
       "      <td>1.317585</td>\n",
       "      <td>1.058427</td>\n",
       "      <td>-0.391578</td>\n",
       "      <td>1.285056</td>\n",
       "      <td>0.801917</td>\n",
       "      <td>1.633370</td>\n",
       "      <td>59.332594</td>\n",
       "    </tr>\n",
       "    <tr>\n",
       "      <th>std</th>\n",
       "      <td>1.150379</td>\n",
       "      <td>0.406040</td>\n",
       "      <td>0.896088</td>\n",
       "      <td>1.395988</td>\n",
       "      <td>0.620713</td>\n",
       "      <td>0.561837</td>\n",
       "      <td>79.293050</td>\n",
       "      <td>300.906547</td>\n",
       "      <td>0.692836</td>\n",
       "      <td>3.965339</td>\n",
       "      <td>2.458677</td>\n",
       "      <td>0.861142</td>\n",
       "      <td>2.187644</td>\n",
       "      <td>1.592638</td>\n",
       "      <td>23.221176</td>\n",
       "    </tr>\n",
       "    <tr>\n",
       "      <th>min</th>\n",
       "      <td>1.000000</td>\n",
       "      <td>-1.000000</td>\n",
       "      <td>-1.000000</td>\n",
       "      <td>-1.000000</td>\n",
       "      <td>-1.000000</td>\n",
       "      <td>-1.000000</td>\n",
       "      <td>-1.000000</td>\n",
       "      <td>-1.000000</td>\n",
       "      <td>-1.000000</td>\n",
       "      <td>0.000000</td>\n",
       "      <td>-1.000000</td>\n",
       "      <td>-1.000000</td>\n",
       "      <td>-1.000000</td>\n",
       "      <td>-1.000000</td>\n",
       "      <td>-1.000000</td>\n",
       "    </tr>\n",
       "    <tr>\n",
       "      <th>25%</th>\n",
       "      <td>3.000000</td>\n",
       "      <td>0.000000</td>\n",
       "      <td>2.000000</td>\n",
       "      <td>2.000000</td>\n",
       "      <td>0.000000</td>\n",
       "      <td>1.000000</td>\n",
       "      <td>0.000000</td>\n",
       "      <td>0.000000</td>\n",
       "      <td>1.000000</td>\n",
       "      <td>0.000000</td>\n",
       "      <td>-1.000000</td>\n",
       "      <td>1.000000</td>\n",
       "      <td>0.000000</td>\n",
       "      <td>1.000000</td>\n",
       "      <td>50.000000</td>\n",
       "    </tr>\n",
       "    <tr>\n",
       "      <th>50%</th>\n",
       "      <td>3.000000</td>\n",
       "      <td>0.000000</td>\n",
       "      <td>2.000000</td>\n",
       "      <td>2.000000</td>\n",
       "      <td>0.000000</td>\n",
       "      <td>1.000000</td>\n",
       "      <td>0.000000</td>\n",
       "      <td>0.000000</td>\n",
       "      <td>1.000000</td>\n",
       "      <td>0.000000</td>\n",
       "      <td>-1.000000</td>\n",
       "      <td>1.000000</td>\n",
       "      <td>0.000000</td>\n",
       "      <td>1.000000</td>\n",
       "      <td>50.000000</td>\n",
       "    </tr>\n",
       "    <tr>\n",
       "      <th>75%</th>\n",
       "      <td>4.000000</td>\n",
       "      <td>0.000000</td>\n",
       "      <td>2.000000</td>\n",
       "      <td>3.000000</td>\n",
       "      <td>0.000000</td>\n",
       "      <td>1.000000</td>\n",
       "      <td>10.000000</td>\n",
       "      <td>300.000000</td>\n",
       "      <td>1.000000</td>\n",
       "      <td>0.000000</td>\n",
       "      <td>-1.000000</td>\n",
       "      <td>1.000000</td>\n",
       "      <td>0.000000</td>\n",
       "      <td>1.000000</td>\n",
       "      <td>80.000000</td>\n",
       "    </tr>\n",
       "    <tr>\n",
       "      <th>max</th>\n",
       "      <td>9.000000</td>\n",
       "      <td>3.000000</td>\n",
       "      <td>4.000000</td>\n",
       "      <td>12.000000</td>\n",
       "      <td>3.000000</td>\n",
       "      <td>4.000000</td>\n",
       "      <td>7292.000000</td>\n",
       "      <td>4968.000000</td>\n",
       "      <td>4.000000</td>\n",
       "      <td>42.000000</td>\n",
       "      <td>105.000000</td>\n",
       "      <td>9.000000</td>\n",
       "      <td>9.000000</td>\n",
       "      <td>8.000000</td>\n",
       "      <td>500.000000</td>\n",
       "    </tr>\n",
       "  </tbody>\n",
       "</table>\n",
       "</div>"
      ],
      "text/plain": [
       "               catr            v1          circ           nbv          vosp  \\\n",
       "count  47773.000000  47773.000000  47773.000000  47773.000000  47773.000000   \n",
       "mean       3.297595     -0.178134      1.818810      2.378436      0.177736   \n",
       "std        1.150379      0.406040      0.896088      1.395988      0.620713   \n",
       "min        1.000000     -1.000000     -1.000000     -1.000000     -1.000000   \n",
       "25%        3.000000      0.000000      2.000000      2.000000      0.000000   \n",
       "50%        3.000000      0.000000      2.000000      2.000000      0.000000   \n",
       "75%        4.000000      0.000000      2.000000      3.000000      0.000000   \n",
       "max        9.000000      3.000000      4.000000     12.000000      3.000000   \n",
       "\n",
       "               prof            pr           pr1          plan      lartpc  \\\n",
       "count  47773.000000  47773.000000  47773.000000  47773.000000  178.000000   \n",
       "mean       1.246520     15.383627    179.243820      1.317585    1.058427   \n",
       "std        0.561837     79.293050    300.906547      0.692836    3.965339   \n",
       "min       -1.000000     -1.000000     -1.000000     -1.000000    0.000000   \n",
       "25%        1.000000      0.000000      0.000000      1.000000    0.000000   \n",
       "50%        1.000000      0.000000      0.000000      1.000000    0.000000   \n",
       "75%        1.000000     10.000000    300.000000      1.000000    0.000000   \n",
       "max        4.000000   7292.000000   4968.000000      4.000000   42.000000   \n",
       "\n",
       "            larrout          surf         infra          situ           vma  \n",
       "count  47773.000000  47773.000000  47773.000000  47773.000000  47773.000000  \n",
       "mean      -0.391578      1.285056      0.801917      1.633370     59.332594  \n",
       "std        2.458677      0.861142      2.187644      1.592638     23.221176  \n",
       "min       -1.000000     -1.000000     -1.000000     -1.000000     -1.000000  \n",
       "25%       -1.000000      1.000000      0.000000      1.000000     50.000000  \n",
       "50%       -1.000000      1.000000      0.000000      1.000000     50.000000  \n",
       "75%       -1.000000      1.000000      0.000000      1.000000     80.000000  \n",
       "max      105.000000      9.000000      9.000000      8.000000    500.000000  "
      ]
     },
     "execution_count": 5,
     "metadata": {},
     "output_type": "execute_result"
    }
   ],
   "source": [
    "places.info()\n",
    "places.describe()"
   ]
  },
  {
   "cell_type": "code",
   "execution_count": 6,
   "id": "486d830a",
   "metadata": {
    "scrolled": true
   },
   "outputs": [
    {
     "name": "stdout",
     "output_type": "stream",
     "text": [
      "<class 'pandas.core.frame.DataFrame'>\n",
      "RangeIndex: 81066 entries, 0 to 81065\n",
      "Data columns (total 12 columns):\n",
      " #   Column       Non-Null Count  Dtype  \n",
      "---  ------       --------------  -----  \n",
      " 0   Num_Acc      81066 non-null  object \n",
      " 1   id_vehicule  81066 non-null  object \n",
      " 2   num_veh      81066 non-null  object \n",
      " 3   senc         81066 non-null  int64  \n",
      " 4   catv         81066 non-null  int64  \n",
      " 5   obs          81066 non-null  int64  \n",
      " 6   obsm         81066 non-null  int64  \n",
      " 7   choc         81066 non-null  int64  \n",
      " 8   manv         81066 non-null  int64  \n",
      " 9   motor        81066 non-null  int64  \n",
      " 10  occutc       621 non-null    float64\n",
      " 11  vit          80306 non-null  object \n",
      "dtypes: float64(1), int64(7), object(4)\n",
      "memory usage: 7.4+ MB\n"
     ]
    },
    {
     "data": {
      "text/html": [
       "<div>\n",
       "<style scoped>\n",
       "    .dataframe tbody tr th:only-of-type {\n",
       "        vertical-align: middle;\n",
       "    }\n",
       "\n",
       "    .dataframe tbody tr th {\n",
       "        vertical-align: top;\n",
       "    }\n",
       "\n",
       "    .dataframe thead th {\n",
       "        text-align: right;\n",
       "    }\n",
       "</style>\n",
       "<table border=\"1\" class=\"dataframe\">\n",
       "  <thead>\n",
       "    <tr style=\"text-align: right;\">\n",
       "      <th></th>\n",
       "      <th>senc</th>\n",
       "      <th>catv</th>\n",
       "      <th>obs</th>\n",
       "      <th>obsm</th>\n",
       "      <th>choc</th>\n",
       "      <th>manv</th>\n",
       "      <th>motor</th>\n",
       "      <th>occutc</th>\n",
       "    </tr>\n",
       "  </thead>\n",
       "  <tbody>\n",
       "    <tr>\n",
       "      <th>count</th>\n",
       "      <td>81066.000000</td>\n",
       "      <td>81066.000000</td>\n",
       "      <td>81066.000000</td>\n",
       "      <td>81066.000000</td>\n",
       "      <td>81066.000000</td>\n",
       "      <td>81066.000000</td>\n",
       "      <td>81066.000000</td>\n",
       "      <td>621.000000</td>\n",
       "    </tr>\n",
       "    <tr>\n",
       "      <th>mean</th>\n",
       "      <td>1.529902</td>\n",
       "      <td>12.909086</td>\n",
       "      <td>1.049059</td>\n",
       "      <td>1.651815</td>\n",
       "      <td>2.898885</td>\n",
       "      <td>7.205746</td>\n",
       "      <td>1.233119</td>\n",
       "      <td>1.663446</td>\n",
       "    </tr>\n",
       "    <tr>\n",
       "      <th>std</th>\n",
       "      <td>0.831473</td>\n",
       "      <td>13.649846</td>\n",
       "      <td>3.184195</td>\n",
       "      <td>1.280112</td>\n",
       "      <td>2.435055</td>\n",
       "      <td>8.041962</td>\n",
       "      <td>1.171552</td>\n",
       "      <td>2.617762</td>\n",
       "    </tr>\n",
       "    <tr>\n",
       "      <th>min</th>\n",
       "      <td>-1.000000</td>\n",
       "      <td>-1.000000</td>\n",
       "      <td>-1.000000</td>\n",
       "      <td>-1.000000</td>\n",
       "      <td>-1.000000</td>\n",
       "      <td>-1.000000</td>\n",
       "      <td>-1.000000</td>\n",
       "      <td>0.000000</td>\n",
       "    </tr>\n",
       "    <tr>\n",
       "      <th>25%</th>\n",
       "      <td>1.000000</td>\n",
       "      <td>7.000000</td>\n",
       "      <td>0.000000</td>\n",
       "      <td>1.000000</td>\n",
       "      <td>1.000000</td>\n",
       "      <td>1.000000</td>\n",
       "      <td>1.000000</td>\n",
       "      <td>1.000000</td>\n",
       "    </tr>\n",
       "    <tr>\n",
       "      <th>50%</th>\n",
       "      <td>1.000000</td>\n",
       "      <td>7.000000</td>\n",
       "      <td>0.000000</td>\n",
       "      <td>2.000000</td>\n",
       "      <td>2.000000</td>\n",
       "      <td>2.000000</td>\n",
       "      <td>1.000000</td>\n",
       "      <td>1.000000</td>\n",
       "    </tr>\n",
       "    <tr>\n",
       "      <th>75%</th>\n",
       "      <td>2.000000</td>\n",
       "      <td>10.000000</td>\n",
       "      <td>0.000000</td>\n",
       "      <td>2.000000</td>\n",
       "      <td>4.000000</td>\n",
       "      <td>15.000000</td>\n",
       "      <td>1.000000</td>\n",
       "      <td>1.000000</td>\n",
       "    </tr>\n",
       "    <tr>\n",
       "      <th>max</th>\n",
       "      <td>3.000000</td>\n",
       "      <td>99.000000</td>\n",
       "      <td>17.000000</td>\n",
       "      <td>9.000000</td>\n",
       "      <td>9.000000</td>\n",
       "      <td>26.000000</td>\n",
       "      <td>6.000000</td>\n",
       "      <td>34.000000</td>\n",
       "    </tr>\n",
       "  </tbody>\n",
       "</table>\n",
       "</div>"
      ],
      "text/plain": [
       "               senc          catv           obs          obsm          choc  \\\n",
       "count  81066.000000  81066.000000  81066.000000  81066.000000  81066.000000   \n",
       "mean       1.529902     12.909086      1.049059      1.651815      2.898885   \n",
       "std        0.831473     13.649846      3.184195      1.280112      2.435055   \n",
       "min       -1.000000     -1.000000     -1.000000     -1.000000     -1.000000   \n",
       "25%        1.000000      7.000000      0.000000      1.000000      1.000000   \n",
       "50%        1.000000      7.000000      0.000000      2.000000      2.000000   \n",
       "75%        2.000000     10.000000      0.000000      2.000000      4.000000   \n",
       "max        3.000000     99.000000     17.000000      9.000000      9.000000   \n",
       "\n",
       "               manv         motor      occutc  \n",
       "count  81066.000000  81066.000000  621.000000  \n",
       "mean       7.205746      1.233119    1.663446  \n",
       "std        8.041962      1.171552    2.617762  \n",
       "min       -1.000000     -1.000000    0.000000  \n",
       "25%        1.000000      1.000000    1.000000  \n",
       "50%        2.000000      1.000000    1.000000  \n",
       "75%       15.000000      1.000000    1.000000  \n",
       "max       26.000000      6.000000   34.000000  "
      ]
     },
     "execution_count": 6,
     "metadata": {},
     "output_type": "execute_result"
    }
   ],
   "source": [
    "vehicles.info()\n",
    "vehicles.describe()"
   ]
  },
  {
   "cell_type": "markdown",
   "id": "439ab1b5",
   "metadata": {},
   "source": [
    "Check the total number of records"
   ]
  },
  {
   "cell_type": "code",
   "execution_count": 7,
   "id": "d22e6ece",
   "metadata": {},
   "outputs": [
    {
     "data": {
      "text/plain": [
       "9819"
      ]
     },
     "execution_count": 7,
     "metadata": {},
     "output_type": "execute_result"
    }
   ],
   "source": [
    "characteristics[\"Num_Acc\"].count()"
   ]
  },
  {
   "cell_type": "code",
   "execution_count": 8,
   "id": "4f8d08a5",
   "metadata": {},
   "outputs": [
    {
     "data": {
      "text/plain": [
       "105295"
      ]
     },
     "execution_count": 8,
     "metadata": {},
     "output_type": "execute_result"
    }
   ],
   "source": [
    "users[\"Num_Acc\"].count()"
   ]
  },
  {
   "cell_type": "code",
   "execution_count": 9,
   "id": "0b81f70f",
   "metadata": {},
   "outputs": [
    {
     "data": {
      "text/plain": [
       "47773"
      ]
     },
     "execution_count": 9,
     "metadata": {},
     "output_type": "execute_result"
    }
   ],
   "source": [
    "places[\"Num_Acc\"].count()"
   ]
  },
  {
   "cell_type": "code",
   "execution_count": 10,
   "id": "ec664c0b",
   "metadata": {},
   "outputs": [
    {
     "data": {
      "text/plain": [
       "105295"
      ]
     },
     "execution_count": 10,
     "metadata": {},
     "output_type": "execute_result"
    }
   ],
   "source": [
    "users[\"Num_Acc\"].count()"
   ]
  },
  {
   "cell_type": "code",
   "execution_count": null,
   "id": "c9305324",
   "metadata": {},
   "outputs": [],
   "source": []
  },
  {
   "cell_type": "markdown",
   "id": "1700a373",
   "metadata": {},
   "source": [
    "## Data Preprocessing\n",
    "Before starting to run any ML algorithm on the data, we have to go through the preprocessing part. In this part, we will keep only interesting features, and then clean the data so there is no missing or unusual value. The goal is that our data is the best possible before applying the algorithm.\n",
    "\n",
    "We will do the first part of the preprocessing separately for each dataset.\n",
    "\n",
    "As detailled in the report, my goal is to build a model that could be used in the future to help emergency services be more efficient for road accident. Thus, I want to keep only features that could be used as input data known by this services to predict the severity of the accident.\n",
    "\n",
    "It means that the features kept are only the information known thanks to the description of the accident given when calling emergency or other information that can be infered from this."
   ]
  },
  {
   "cell_type": "markdown",
   "id": "df00f470",
   "metadata": {},
   "source": [
    "First we replace the name sof columns to their descriptive names."
   ]
  },
  {
   "cell_type": "code",
   "execution_count": 11,
   "id": "9c0021d9",
   "metadata": {},
   "outputs": [],
   "source": [
    "Mapping = {\n",
    "    'Num_Acc':'AccidentID',\n",
    "    'jour':'Day',\n",
    "    'mois':'Month',\n",
    "    'an':'Year',\n",
    "    'hrmn':'Hour',\n",
    "    'lum':'LightingCondition',\n",
    "    'dep':'Department',\n",
    "    'com':'Municipality',\n",
    "    'agg':'Localisation',\n",
    "    'int':'Intersection',\n",
    "    'atm':'AtmosphericCondition',\n",
    "    'col':'CollisionType',\n",
    "    'adr':'Address',\n",
    "    'lat':'Latitude',\n",
    "    'long':'Longitude',\n",
    "    'catr':'RoadCategory',\n",
    "    'voie':'RoadNumber',\n",
    "    'v1':'RouteNumber',\n",
    "    'v2':'RouteName',\n",
    "    'circ':'TrafficType',\n",
    "    'nbv':'NumberofLanes',\n",
    "    'vosp':'OuterLane',\n",
    "    'Prof':'RoadProfile',\n",
    "    'pr':'HomePRNumber',\n",
    "    'pr1':'PRDistance',\n",
    "    'plan':'LaneStructure',\n",
    "    'lartpc':'CentralLaneWidth',\n",
    "    'larrout':'OuterLaneWidth',\n",
    "    'surf':'SurfaceCondition',\n",
    "    'infra':'Infrastructure',\n",
    "    'situ':'SituationofAccident',\n",
    "    'env1':'SchoolPoint',\n",
    "    'vma' : 'AuthorizedMaxSpeed',\n",
    "    'id_vehicule' : 'VehicleID',\n",
    "    'Num_Veh':'NumberOfVehicles',\n",
    "    'place':'Place',\n",
    "    'catu':'UserCatagory',\n",
    "    'grav':'Severity',\n",
    "    'an_nais':'UserYoB',\n",
    "    'locp':'Locationofpedestrian',\n",
    "    'actp':'Actionofpedestrian',\n",
    "    'etatp':'PedestrianGroup',\n",
    "    'sexe' : 'Sex',\n",
    "    'secu1':'SafetyEquipment',\n",
    "    'secu2':'SafetyEquipment',\n",
    "    'secu3':'SafetyEquipment',\n",
    "    'senc' :'TrafficDirection',\n",
    "    'catv' : 'VehicleCategory',\n",
    "    'obs' : 'FixedObstacle',\n",
    "    'obsm' : 'MobileObstacle',\n",
    "    'choc' : 'Shock',\n",
    "    'manv' : 'Maneuver',\n",
    "    'motor' : 'MotorizationType',\n",
    "    'occutc' : 'OccupantsNumber',\n",
    "    'vit' : 'ApproximateSpeed'\n",
    "}\n",
    "\n",
    "characteristics.rename(index=str, columns=Mapping, inplace=True)\n",
    "places.rename(index=str, columns=Mapping, inplace=True)\n",
    "users.rename(index=str, columns=Mapping, inplace=True)\n",
    "vehicles.rename(index=str, columns=Mapping, inplace=True)"
   ]
  },
  {
   "cell_type": "markdown",
   "id": "49f95225",
   "metadata": {},
   "source": [
    "#### Note:\n",
    "I know that usually, it is better to split between the Train and the Test set before doing the preprocessing, in order not to bias the model with information from the Test data.\n",
    "\n",
    "But here, the only preprocessing that I am applying to the data is filling missing values, cleaning outliers, and calculations to format the data. No information relative to the data is used so the model will not be biased."
   ]
  },
  {
   "cell_type": "markdown",
   "id": "6a8ab127",
   "metadata": {},
   "source": [
    "### Users"
   ]
  },
  {
   "cell_type": "code",
   "execution_count": 12,
   "id": "860adf2a",
   "metadata": {},
   "outputs": [
    {
     "data": {
      "text/html": [
       "<div>\n",
       "<style scoped>\n",
       "    .dataframe tbody tr th:only-of-type {\n",
       "        vertical-align: middle;\n",
       "    }\n",
       "\n",
       "    .dataframe tbody tr th {\n",
       "        vertical-align: top;\n",
       "    }\n",
       "\n",
       "    .dataframe thead th {\n",
       "        text-align: right;\n",
       "    }\n",
       "</style>\n",
       "<table border=\"1\" class=\"dataframe\">\n",
       "  <thead>\n",
       "    <tr style=\"text-align: right;\">\n",
       "      <th></th>\n",
       "      <th>AccidentID</th>\n",
       "      <th>VehicleID</th>\n",
       "      <th>num_veh</th>\n",
       "      <th>Place</th>\n",
       "      <th>UserCatagory</th>\n",
       "      <th>Severity</th>\n",
       "      <th>Sex</th>\n",
       "      <th>UserYoB</th>\n",
       "      <th>trajet</th>\n",
       "      <th>SafetyEquipment</th>\n",
       "      <th>SafetyEquipment</th>\n",
       "      <th>SafetyEquipment</th>\n",
       "      <th>Locationofpedestrian</th>\n",
       "      <th>Actionofpedestrian</th>\n",
       "      <th>PedestrianGroup</th>\n",
       "    </tr>\n",
       "  </thead>\n",
       "  <tbody>\n",
       "    <tr>\n",
       "      <th>0</th>\n",
       "      <td>202 000 000 001</td>\n",
       "      <td>154 742 274</td>\n",
       "      <td>B01</td>\n",
       "      <td>1</td>\n",
       "      <td>1</td>\n",
       "      <td>1</td>\n",
       "      <td>1</td>\n",
       "      <td>1983.0</td>\n",
       "      <td>5</td>\n",
       "      <td>1</td>\n",
       "      <td>0</td>\n",
       "      <td>-1</td>\n",
       "      <td>-1</td>\n",
       "      <td>-1</td>\n",
       "      <td>-1</td>\n",
       "    </tr>\n",
       "    <tr>\n",
       "      <th>1</th>\n",
       "      <td>202 000 000 001</td>\n",
       "      <td>154 742 275</td>\n",
       "      <td>A01</td>\n",
       "      <td>1</td>\n",
       "      <td>1</td>\n",
       "      <td>3</td>\n",
       "      <td>1</td>\n",
       "      <td>1982.0</td>\n",
       "      <td>5</td>\n",
       "      <td>2</td>\n",
       "      <td>6</td>\n",
       "      <td>-1</td>\n",
       "      <td>-1</td>\n",
       "      <td>-1</td>\n",
       "      <td>-1</td>\n",
       "    </tr>\n",
       "    <tr>\n",
       "      <th>2</th>\n",
       "      <td>202 000 000 002</td>\n",
       "      <td>154 742 273</td>\n",
       "      <td>A01</td>\n",
       "      <td>10</td>\n",
       "      <td>3</td>\n",
       "      <td>4</td>\n",
       "      <td>1</td>\n",
       "      <td>1967.0</td>\n",
       "      <td>5</td>\n",
       "      <td>0</td>\n",
       "      <td>-1</td>\n",
       "      <td>-1</td>\n",
       "      <td>3</td>\n",
       "      <td>3</td>\n",
       "      <td>1</td>\n",
       "    </tr>\n",
       "    <tr>\n",
       "      <th>3</th>\n",
       "      <td>202 000 000 002</td>\n",
       "      <td>154 742 273</td>\n",
       "      <td>A01</td>\n",
       "      <td>1</td>\n",
       "      <td>1</td>\n",
       "      <td>1</td>\n",
       "      <td>1</td>\n",
       "      <td>1997.0</td>\n",
       "      <td>1</td>\n",
       "      <td>8</td>\n",
       "      <td>0</td>\n",
       "      <td>-1</td>\n",
       "      <td>-1</td>\n",
       "      <td>-1</td>\n",
       "      <td>-1</td>\n",
       "    </tr>\n",
       "    <tr>\n",
       "      <th>4</th>\n",
       "      <td>202 000 000 003</td>\n",
       "      <td>154 742 271</td>\n",
       "      <td>B01</td>\n",
       "      <td>1</td>\n",
       "      <td>1</td>\n",
       "      <td>1</td>\n",
       "      <td>1</td>\n",
       "      <td>1985.0</td>\n",
       "      <td>0</td>\n",
       "      <td>1</td>\n",
       "      <td>0</td>\n",
       "      <td>-1</td>\n",
       "      <td>-1</td>\n",
       "      <td>-1</td>\n",
       "      <td>-1</td>\n",
       "    </tr>\n",
       "  </tbody>\n",
       "</table>\n",
       "</div>"
      ],
      "text/plain": [
       "        AccidentID    VehicleID num_veh  Place  UserCatagory  Severity  Sex  \\\n",
       "0  202 000 000 001  154 742 274     B01      1             1         1    1   \n",
       "1  202 000 000 001  154 742 275     A01      1             1         3    1   \n",
       "2  202 000 000 002  154 742 273     A01     10             3         4    1   \n",
       "3  202 000 000 002  154 742 273     A01      1             1         1    1   \n",
       "4  202 000 000 003  154 742 271     B01      1             1         1    1   \n",
       "\n",
       "   UserYoB  trajet  SafetyEquipment  SafetyEquipment  SafetyEquipment  \\\n",
       "0   1983.0       5                1                0               -1   \n",
       "1   1982.0       5                2                6               -1   \n",
       "2   1967.0       5                0               -1               -1   \n",
       "3   1997.0       1                8                0               -1   \n",
       "4   1985.0       0                1                0               -1   \n",
       "\n",
       "   Locationofpedestrian Actionofpedestrian  PedestrianGroup  \n",
       "0                    -1                 -1               -1  \n",
       "1                    -1                 -1               -1  \n",
       "2                     3                  3                1  \n",
       "3                    -1                 -1               -1  \n",
       "4                    -1                 -1               -1  "
      ]
     },
     "execution_count": 12,
     "metadata": {},
     "output_type": "execute_result"
    }
   ],
   "source": [
    "users.head()"
   ]
  },
  {
   "cell_type": "markdown",
   "id": "b6cf867b",
   "metadata": {},
   "source": [
    "In the database \"users\", I will only keep the feature \"Severity\" (severity of the accident), which will be the target column.\n",
    "\n",
    "I can thus drop all the others features"
   ]
  },
  {
   "cell_type": "code",
   "execution_count": 13,
   "id": "3c5c40da",
   "metadata": {},
   "outputs": [],
   "source": [
    "users = users[['AccidentID','Severity']]\n",
    "# users = users.drop(['VehicleID', 'num_veh', 'Place', 'UserCatagory', 'Sex', 'UserYoB', 'trajet', 'SafetyEquipment', 'SafetyEquipment', 'SafetyEquipment', 'Locationofpedestrian', 'Actionofpedestrian', 'PedestrianGroup'], axis=1)"
   ]
  },
  {
   "cell_type": "code",
   "execution_count": 14,
   "id": "15dbc6bd",
   "metadata": {},
   "outputs": [
    {
     "data": {
      "text/html": [
       "<div>\n",
       "<style scoped>\n",
       "    .dataframe tbody tr th:only-of-type {\n",
       "        vertical-align: middle;\n",
       "    }\n",
       "\n",
       "    .dataframe tbody tr th {\n",
       "        vertical-align: top;\n",
       "    }\n",
       "\n",
       "    .dataframe thead th {\n",
       "        text-align: right;\n",
       "    }\n",
       "</style>\n",
       "<table border=\"1\" class=\"dataframe\">\n",
       "  <thead>\n",
       "    <tr style=\"text-align: right;\">\n",
       "      <th></th>\n",
       "      <th>AccidentID</th>\n",
       "      <th>Severity</th>\n",
       "    </tr>\n",
       "  </thead>\n",
       "  <tbody>\n",
       "    <tr>\n",
       "      <th>0</th>\n",
       "      <td>202 000 000 001</td>\n",
       "      <td>1</td>\n",
       "    </tr>\n",
       "    <tr>\n",
       "      <th>1</th>\n",
       "      <td>202 000 000 001</td>\n",
       "      <td>3</td>\n",
       "    </tr>\n",
       "    <tr>\n",
       "      <th>2</th>\n",
       "      <td>202 000 000 002</td>\n",
       "      <td>4</td>\n",
       "    </tr>\n",
       "    <tr>\n",
       "      <th>3</th>\n",
       "      <td>202 000 000 002</td>\n",
       "      <td>1</td>\n",
       "    </tr>\n",
       "    <tr>\n",
       "      <th>4</th>\n",
       "      <td>202 000 000 003</td>\n",
       "      <td>1</td>\n",
       "    </tr>\n",
       "  </tbody>\n",
       "</table>\n",
       "</div>"
      ],
      "text/plain": [
       "        AccidentID  Severity\n",
       "0  202 000 000 001         1\n",
       "1  202 000 000 001         3\n",
       "2  202 000 000 002         4\n",
       "3  202 000 000 002         1\n",
       "4  202 000 000 003         1"
      ]
     },
     "execution_count": 14,
     "metadata": {},
     "output_type": "execute_result"
    }
   ],
   "source": [
    "users.head()"
   ]
  },
  {
   "cell_type": "markdown",
   "id": "f857c70d",
   "metadata": {},
   "source": [
    "The \"Severity\" features is actually categorical data. 4 categories: \n",
    "- 1: Unscathed \n",
    "- 2: Killed \n",
    "- 3: Serious injury \n",
    "- 4: Light injury"
   ]
  },
  {
   "cell_type": "code",
   "execution_count": 15,
   "id": "611a0716",
   "metadata": {},
   "outputs": [
    {
     "data": {
      "text/plain": [
       "<AxesSubplot:>"
      ]
     },
     "execution_count": 15,
     "metadata": {},
     "output_type": "execute_result"
    },
    {
     "data": {
      "image/png": "[encoded data removed]",
      "text/plain": [
       "<Figure size 432x288 with 1 Axes>"
      ]
     },
     "metadata": {
      "needs_background": "light"
     },
     "output_type": "display_data"
    }
   ],
   "source": [
    "users[\"Severity\"] = users[\"Severity\"].astype(int)\n",
    "users.Severity.hist()"
   ]
  },
  {
   "cell_type": "code",
   "execution_count": 16,
   "id": "09b3f84e",
   "metadata": {},
   "outputs": [
    {
     "data": {
      "text/plain": [
       "Index(['AccidentID', 'Severity'], dtype='object')"
      ]
     },
     "execution_count": 16,
     "metadata": {},
     "output_type": "execute_result"
    }
   ],
   "source": [
    "users.columns"
   ]
  },
  {
   "cell_type": "markdown",
   "id": "9f8ccad6",
   "metadata": {},
   "source": [
    "we have transformed this feature in a binary form that would differentiate Unscathed and light injury (0) from Serious injury and death (1)."
   ]
  },
  {
   "cell_type": "code",
   "execution_count": 17,
   "id": "e5b961da",
   "metadata": {},
   "outputs": [
    {
     "data": {
      "text/plain": [
       "<AxesSubplot:>"
      ]
     },
     "execution_count": 17,
     "metadata": {},
     "output_type": "execute_result"
    },
    {
     "data": {
      "image/png": "[encoded data removed]",
      "text/plain": [
       "<Figure size 432x288 with 1 Axes>"
      ]
     },
     "metadata": {
      "needs_background": "light"
     },
     "output_type": "display_data"
    }
   ],
   "source": [
    "users = users.replace(1,0)\n",
    "users = users.replace(3,1)\n",
    "users = users.replace(4,0)\n",
    "users = users.replace(2,1)\n",
    "\n",
    "users.Severity.hist()"
   ]
  },
  {
   "cell_type": "markdown",
   "id": "f9831c5d",
   "metadata": {},
   "source": [
    "Then, in order to merge the 3 datasets, we will have to have the same number of instances, that is to say 1 line by accident.\n",
    "\n",
    "So we have to apply a \"group by\" transformation on the entire database, grouping by the Accident ID.\n",
    "\n",
    "Moreover, when there are several instances for 1 accident, we specified that we keep the one with the maximum severity. Thus, we keep only the information about the maximum severe injury. keeping in mind the context of the model, this is the information that will be useful to emergency services."
   ]
  },
  {
   "cell_type": "code",
   "execution_count": 18,
   "id": "91b4875c",
   "metadata": {},
   "outputs": [
    {
     "data": {
      "text/plain": [
       "<AxesSubplot:>"
      ]
     },
     "execution_count": 18,
     "metadata": {},
     "output_type": "execute_result"
    },
    {
     "data": {
      "image/png": "[encoded data removed]",
      "text/plain": [
       "<Figure size 432x288 with 1 Axes>"
      ]
     },
     "metadata": {
      "needs_background": "light"
     },
     "output_type": "display_data"
    }
   ],
   "source": [
    "users = users.groupby(['AccidentID'], as_index=False).max()\n",
    "\n",
    "users.Severity.hist()"
   ]
  },
  {
   "cell_type": "code",
   "execution_count": 19,
   "id": "bb45dfa8",
   "metadata": {},
   "outputs": [
    {
     "data": {
      "text/plain": [
       "AccidentID    47744\n",
       "Severity      47744\n",
       "dtype: int64"
      ]
     },
     "execution_count": 19,
     "metadata": {},
     "output_type": "execute_result"
    }
   ],
   "source": [
    "users.count()"
   ]
  },
  {
   "cell_type": "code",
   "execution_count": 20,
   "id": "931c41e0",
   "metadata": {},
   "outputs": [
    {
     "data": {
      "text/html": [
       "<div>\n",
       "<style scoped>\n",
       "    .dataframe tbody tr th:only-of-type {\n",
       "        vertical-align: middle;\n",
       "    }\n",
       "\n",
       "    .dataframe tbody tr th {\n",
       "        vertical-align: top;\n",
       "    }\n",
       "\n",
       "    .dataframe thead th {\n",
       "        text-align: right;\n",
       "    }\n",
       "</style>\n",
       "<table border=\"1\" class=\"dataframe\">\n",
       "  <thead>\n",
       "    <tr style=\"text-align: right;\">\n",
       "      <th></th>\n",
       "      <th>AccidentID</th>\n",
       "      <th>Severity</th>\n",
       "    </tr>\n",
       "  </thead>\n",
       "  <tbody>\n",
       "    <tr>\n",
       "      <th>0</th>\n",
       "      <td>202 000 000 001</td>\n",
       "      <td>1</td>\n",
       "    </tr>\n",
       "    <tr>\n",
       "      <th>1</th>\n",
       "      <td>202 000 000 002</td>\n",
       "      <td>0</td>\n",
       "    </tr>\n",
       "    <tr>\n",
       "      <th>2</th>\n",
       "      <td>202 000 000 003</td>\n",
       "      <td>1</td>\n",
       "    </tr>\n",
       "    <tr>\n",
       "      <th>3</th>\n",
       "      <td>202 000 000 004</td>\n",
       "      <td>1</td>\n",
       "    </tr>\n",
       "    <tr>\n",
       "      <th>4</th>\n",
       "      <td>202 000 000 005</td>\n",
       "      <td>0</td>\n",
       "    </tr>\n",
       "  </tbody>\n",
       "</table>\n",
       "</div>"
      ],
      "text/plain": [
       "        AccidentID  Severity\n",
       "0  202 000 000 001         1\n",
       "1  202 000 000 002         0\n",
       "2  202 000 000 003         1\n",
       "3  202 000 000 004         1\n",
       "4  202 000 000 005         0"
      ]
     },
     "execution_count": 20,
     "metadata": {},
     "output_type": "execute_result"
    }
   ],
   "source": [
    "users.head()"
   ]
  },
  {
   "cell_type": "code",
   "execution_count": null,
   "id": "4128171e",
   "metadata": {},
   "outputs": [],
   "source": []
  },
  {
   "cell_type": "markdown",
   "id": "345c5e42",
   "metadata": {},
   "source": [
    "### Places"
   ]
  },
  {
   "cell_type": "code",
   "execution_count": 21,
   "id": "79ea4f89",
   "metadata": {},
   "outputs": [
    {
     "data": {
      "text/html": [
       "<div>\n",
       "<style scoped>\n",
       "    .dataframe tbody tr th:only-of-type {\n",
       "        vertical-align: middle;\n",
       "    }\n",
       "\n",
       "    .dataframe tbody tr th {\n",
       "        vertical-align: top;\n",
       "    }\n",
       "\n",
       "    .dataframe thead th {\n",
       "        text-align: right;\n",
       "    }\n",
       "</style>\n",
       "<table border=\"1\" class=\"dataframe\">\n",
       "  <thead>\n",
       "    <tr style=\"text-align: right;\">\n",
       "      <th></th>\n",
       "      <th>RoadCategory</th>\n",
       "      <th>RouteNumber</th>\n",
       "      <th>TrafficType</th>\n",
       "      <th>NumberofLanes</th>\n",
       "      <th>OuterLane</th>\n",
       "      <th>prof</th>\n",
       "      <th>HomePRNumber</th>\n",
       "      <th>PRDistance</th>\n",
       "      <th>LaneStructure</th>\n",
       "      <th>CentralLaneWidth</th>\n",
       "      <th>OuterLaneWidth</th>\n",
       "      <th>SurfaceCondition</th>\n",
       "      <th>Infrastructure</th>\n",
       "      <th>SituationofAccident</th>\n",
       "      <th>AuthorizedMaxSpeed</th>\n",
       "    </tr>\n",
       "  </thead>\n",
       "  <tbody>\n",
       "    <tr>\n",
       "      <th>count</th>\n",
       "      <td>47773.000000</td>\n",
       "      <td>47773.000000</td>\n",
       "      <td>47773.000000</td>\n",
       "      <td>47773.000000</td>\n",
       "      <td>47773.000000</td>\n",
       "      <td>47773.000000</td>\n",
       "      <td>47773.000000</td>\n",
       "      <td>47773.000000</td>\n",
       "      <td>47773.000000</td>\n",
       "      <td>178.000000</td>\n",
       "      <td>47773.000000</td>\n",
       "      <td>47773.000000</td>\n",
       "      <td>47773.000000</td>\n",
       "      <td>47773.000000</td>\n",
       "      <td>47773.000000</td>\n",
       "    </tr>\n",
       "    <tr>\n",
       "      <th>mean</th>\n",
       "      <td>3.297595</td>\n",
       "      <td>-0.178134</td>\n",
       "      <td>1.818810</td>\n",
       "      <td>2.378436</td>\n",
       "      <td>0.177736</td>\n",
       "      <td>1.246520</td>\n",
       "      <td>15.383627</td>\n",
       "      <td>179.243820</td>\n",
       "      <td>1.317585</td>\n",
       "      <td>1.058427</td>\n",
       "      <td>-0.391578</td>\n",
       "      <td>1.285056</td>\n",
       "      <td>0.801917</td>\n",
       "      <td>1.633370</td>\n",
       "      <td>59.332594</td>\n",
       "    </tr>\n",
       "    <tr>\n",
       "      <th>std</th>\n",
       "      <td>1.150379</td>\n",
       "      <td>0.406040</td>\n",
       "      <td>0.896088</td>\n",
       "      <td>1.395988</td>\n",
       "      <td>0.620713</td>\n",
       "      <td>0.561837</td>\n",
       "      <td>79.293050</td>\n",
       "      <td>300.906547</td>\n",
       "      <td>0.692836</td>\n",
       "      <td>3.965339</td>\n",
       "      <td>2.458677</td>\n",
       "      <td>0.861142</td>\n",
       "      <td>2.187644</td>\n",
       "      <td>1.592638</td>\n",
       "      <td>23.221176</td>\n",
       "    </tr>\n",
       "    <tr>\n",
       "      <th>min</th>\n",
       "      <td>1.000000</td>\n",
       "      <td>-1.000000</td>\n",
       "      <td>-1.000000</td>\n",
       "      <td>-1.000000</td>\n",
       "      <td>-1.000000</td>\n",
       "      <td>-1.000000</td>\n",
       "      <td>-1.000000</td>\n",
       "      <td>-1.000000</td>\n",
       "      <td>-1.000000</td>\n",
       "      <td>0.000000</td>\n",
       "      <td>-1.000000</td>\n",
       "      <td>-1.000000</td>\n",
       "      <td>-1.000000</td>\n",
       "      <td>-1.000000</td>\n",
       "      <td>-1.000000</td>\n",
       "    </tr>\n",
       "    <tr>\n",
       "      <th>25%</th>\n",
       "      <td>3.000000</td>\n",
       "      <td>0.000000</td>\n",
       "      <td>2.000000</td>\n",
       "      <td>2.000000</td>\n",
       "      <td>0.000000</td>\n",
       "      <td>1.000000</td>\n",
       "      <td>0.000000</td>\n",
       "      <td>0.000000</td>\n",
       "      <td>1.000000</td>\n",
       "      <td>0.000000</td>\n",
       "      <td>-1.000000</td>\n",
       "      <td>1.000000</td>\n",
       "      <td>0.000000</td>\n",
       "      <td>1.000000</td>\n",
       "      <td>50.000000</td>\n",
       "    </tr>\n",
       "    <tr>\n",
       "      <th>50%</th>\n",
       "      <td>3.000000</td>\n",
       "      <td>0.000000</td>\n",
       "      <td>2.000000</td>\n",
       "      <td>2.000000</td>\n",
       "      <td>0.000000</td>\n",
       "      <td>1.000000</td>\n",
       "      <td>0.000000</td>\n",
       "      <td>0.000000</td>\n",
       "      <td>1.000000</td>\n",
       "      <td>0.000000</td>\n",
       "      <td>-1.000000</td>\n",
       "      <td>1.000000</td>\n",
       "      <td>0.000000</td>\n",
       "      <td>1.000000</td>\n",
       "      <td>50.000000</td>\n",
       "    </tr>\n",
       "    <tr>\n",
       "      <th>75%</th>\n",
       "      <td>4.000000</td>\n",
       "      <td>0.000000</td>\n",
       "      <td>2.000000</td>\n",
       "      <td>3.000000</td>\n",
       "      <td>0.000000</td>\n",
       "      <td>1.000000</td>\n",
       "      <td>10.000000</td>\n",
       "      <td>300.000000</td>\n",
       "      <td>1.000000</td>\n",
       "      <td>0.000000</td>\n",
       "      <td>-1.000000</td>\n",
       "      <td>1.000000</td>\n",
       "      <td>0.000000</td>\n",
       "      <td>1.000000</td>\n",
       "      <td>80.000000</td>\n",
       "    </tr>\n",
       "    <tr>\n",
       "      <th>max</th>\n",
       "      <td>9.000000</td>\n",
       "      <td>3.000000</td>\n",
       "      <td>4.000000</td>\n",
       "      <td>12.000000</td>\n",
       "      <td>3.000000</td>\n",
       "      <td>4.000000</td>\n",
       "      <td>7292.000000</td>\n",
       "      <td>4968.000000</td>\n",
       "      <td>4.000000</td>\n",
       "      <td>42.000000</td>\n",
       "      <td>105.000000</td>\n",
       "      <td>9.000000</td>\n",
       "      <td>9.000000</td>\n",
       "      <td>8.000000</td>\n",
       "      <td>500.000000</td>\n",
       "    </tr>\n",
       "  </tbody>\n",
       "</table>\n",
       "</div>"
      ],
      "text/plain": [
       "       RoadCategory   RouteNumber   TrafficType  NumberofLanes     OuterLane  \\\n",
       "count  47773.000000  47773.000000  47773.000000   47773.000000  47773.000000   \n",
       "mean       3.297595     -0.178134      1.818810       2.378436      0.177736   \n",
       "std        1.150379      0.406040      0.896088       1.395988      0.620713   \n",
       "min        1.000000     -1.000000     -1.000000      -1.000000     -1.000000   \n",
       "25%        3.000000      0.000000      2.000000       2.000000      0.000000   \n",
       "50%        3.000000      0.000000      2.000000       2.000000      0.000000   \n",
       "75%        4.000000      0.000000      2.000000       3.000000      0.000000   \n",
       "max        9.000000      3.000000      4.000000      12.000000      3.000000   \n",
       "\n",
       "               prof  HomePRNumber    PRDistance  LaneStructure  \\\n",
       "count  47773.000000  47773.000000  47773.000000   47773.000000   \n",
       "mean       1.246520     15.383627    179.243820       1.317585   \n",
       "std        0.561837     79.293050    300.906547       0.692836   \n",
       "min       -1.000000     -1.000000     -1.000000      -1.000000   \n",
       "25%        1.000000      0.000000      0.000000       1.000000   \n",
       "50%        1.000000      0.000000      0.000000       1.000000   \n",
       "75%        1.000000     10.000000    300.000000       1.000000   \n",
       "max        4.000000   7292.000000   4968.000000       4.000000   \n",
       "\n",
       "       CentralLaneWidth  OuterLaneWidth  SurfaceCondition  Infrastructure  \\\n",
       "count        178.000000    47773.000000      47773.000000    47773.000000   \n",
       "mean           1.058427       -0.391578          1.285056        0.801917   \n",
       "std            3.965339        2.458677          0.861142        2.187644   \n",
       "min            0.000000       -1.000000         -1.000000       -1.000000   \n",
       "25%            0.000000       -1.000000          1.000000        0.000000   \n",
       "50%            0.000000       -1.000000          1.000000        0.000000   \n",
       "75%            0.000000       -1.000000          1.000000        0.000000   \n",
       "max           42.000000      105.000000          9.000000        9.000000   \n",
       "\n",
       "       SituationofAccident  AuthorizedMaxSpeed  \n",
       "count         47773.000000        47773.000000  \n",
       "mean              1.633370           59.332594  \n",
       "std               1.592638           23.221176  \n",
       "min              -1.000000           -1.000000  \n",
       "25%               1.000000           50.000000  \n",
       "50%               1.000000           50.000000  \n",
       "75%               1.000000           80.000000  \n",
       "max               8.000000          500.000000  "
      ]
     },
     "execution_count": 21,
     "metadata": {},
     "output_type": "execute_result"
    }
   ],
   "source": [
    "places.describe()"
   ]
  },
  {
   "cell_type": "markdown",
   "id": "fa1063e1",
   "metadata": {},
   "source": [
    "In the \"places\" dataset, I will keep only the features: \"RoadCategory\", \"TrafficType\", \"NumberofLanes\", \"SurfaceCondition\", and \"Infrastructure\"\n",
    "\n",
    "These are the only ones that seem relevant in the context of the model and its future usage."
   ]
  },
  {
   "cell_type": "code",
   "execution_count": 22,
   "id": "33c68faa",
   "metadata": {},
   "outputs": [
    {
     "data": {
      "text/html": [
       "<div>\n",
       "<style scoped>\n",
       "    .dataframe tbody tr th:only-of-type {\n",
       "        vertical-align: middle;\n",
       "    }\n",
       "\n",
       "    .dataframe tbody tr th {\n",
       "        vertical-align: top;\n",
       "    }\n",
       "\n",
       "    .dataframe thead th {\n",
       "        text-align: right;\n",
       "    }\n",
       "</style>\n",
       "<table border=\"1\" class=\"dataframe\">\n",
       "  <thead>\n",
       "    <tr style=\"text-align: right;\">\n",
       "      <th></th>\n",
       "      <th>AccidentID</th>\n",
       "      <th>RoadCategory</th>\n",
       "      <th>TrafficType</th>\n",
       "      <th>NumberofLanes</th>\n",
       "      <th>SurfaceCondition</th>\n",
       "      <th>Infrastructure</th>\n",
       "    </tr>\n",
       "  </thead>\n",
       "  <tbody>\n",
       "    <tr>\n",
       "      <th>0</th>\n",
       "      <td>202 000 000 001</td>\n",
       "      <td>4</td>\n",
       "      <td>2</td>\n",
       "      <td>2</td>\n",
       "      <td>1</td>\n",
       "      <td>0</td>\n",
       "    </tr>\n",
       "    <tr>\n",
       "      <th>1</th>\n",
       "      <td>202 000 000 002</td>\n",
       "      <td>4</td>\n",
       "      <td>2</td>\n",
       "      <td>2</td>\n",
       "      <td>1</td>\n",
       "      <td>0</td>\n",
       "    </tr>\n",
       "    <tr>\n",
       "      <th>2</th>\n",
       "      <td>202 000 000 003</td>\n",
       "      <td>4</td>\n",
       "      <td>-1</td>\n",
       "      <td>2</td>\n",
       "      <td>1</td>\n",
       "      <td>0</td>\n",
       "    </tr>\n",
       "    <tr>\n",
       "      <th>3</th>\n",
       "      <td>202 000 000 004</td>\n",
       "      <td>4</td>\n",
       "      <td>2</td>\n",
       "      <td>2</td>\n",
       "      <td>1</td>\n",
       "      <td>0</td>\n",
       "    </tr>\n",
       "    <tr>\n",
       "      <th>4</th>\n",
       "      <td>202 000 000 005</td>\n",
       "      <td>3</td>\n",
       "      <td>1</td>\n",
       "      <td>1</td>\n",
       "      <td>1</td>\n",
       "      <td>3</td>\n",
       "    </tr>\n",
       "  </tbody>\n",
       "</table>\n",
       "</div>"
      ],
      "text/plain": [
       "        AccidentID  RoadCategory  TrafficType  NumberofLanes  \\\n",
       "0  202 000 000 001             4            2              2   \n",
       "1  202 000 000 002             4            2              2   \n",
       "2  202 000 000 003             4           -1              2   \n",
       "3  202 000 000 004             4            2              2   \n",
       "4  202 000 000 005             3            1              1   \n",
       "\n",
       "   SurfaceCondition  Infrastructure  \n",
       "0                 1               0  \n",
       "1                 1               0  \n",
       "2                 1               0  \n",
       "3                 1               0  \n",
       "4                 1               3  "
      ]
     },
     "execution_count": 22,
     "metadata": {},
     "output_type": "execute_result"
    }
   ],
   "source": [
    "places = places[[\"AccidentID\", \"RoadCategory\", \"TrafficType\", \"NumberofLanes\", \"SurfaceCondition\", \"Infrastructure\"]]\n",
    "\n",
    "places.head()"
   ]
  },
  {
   "cell_type": "code",
   "execution_count": 23,
   "id": "c5d76ea2",
   "metadata": {},
   "outputs": [
    {
     "name": "stdout",
     "output_type": "stream",
     "text": [
      "<class 'pandas.core.frame.DataFrame'>\n",
      "Index: 47773 entries, 0 to 47772\n",
      "Data columns (total 6 columns):\n",
      " #   Column            Non-Null Count  Dtype \n",
      "---  ------            --------------  ----- \n",
      " 0   AccidentID        47773 non-null  object\n",
      " 1   RoadCategory      47773 non-null  int64 \n",
      " 2   TrafficType       47773 non-null  int64 \n",
      " 3   NumberofLanes     47773 non-null  int64 \n",
      " 4   SurfaceCondition  47773 non-null  int64 \n",
      " 5   Infrastructure    47773 non-null  int64 \n",
      "dtypes: int64(5), object(1)\n",
      "memory usage: 2.6+ MB\n"
     ]
    }
   ],
   "source": [
    "places.info()"
   ]
  },
  {
   "cell_type": "code",
   "execution_count": 24,
   "id": "85299be2",
   "metadata": {},
   "outputs": [
    {
     "data": {
      "text/plain": [
       "AccidentID          0\n",
       "RoadCategory        0\n",
       "TrafficType         0\n",
       "NumberofLanes       0\n",
       "SurfaceCondition    0\n",
       "Infrastructure      0\n",
       "dtype: int64"
      ]
     },
     "execution_count": 24,
     "metadata": {},
     "output_type": "execute_result"
    }
   ],
   "source": [
    "places.isnull().sum()"
   ]
  },
  {
   "cell_type": "markdown",
   "id": "a835737a",
   "metadata": {},
   "source": [
    "No Missing values"
   ]
  },
  {
   "cell_type": "code",
   "execution_count": 25,
   "id": "2f582b79",
   "metadata": {
    "scrolled": true
   },
   "outputs": [
    {
     "data": {
      "text/plain": [
       "<AxesSubplot:>"
      ]
     },
     "execution_count": 25,
     "metadata": {},
     "output_type": "execute_result"
    },
    {
     "data": {
      "image/png": "[encoded data removed]",
      "text/plain": [
       "<Figure size 432x288 with 1 Axes>"
      ]
     },
     "metadata": {
      "needs_background": "light"
     },
     "output_type": "display_data"
    }
   ],
   "source": [
    "places[\"RoadCategory\"].hist()"
   ]
  },
  {
   "cell_type": "markdown",
   "id": "5a88ee53",
   "metadata": {},
   "source": [
    "catr : Road Category:\n",
    "- 1 - Highway\n",
    "- 2 - National Road\n",
    "- 3 - Departmental Road\n",
    "- 4 - Communal Way\n",
    "- 5 - Off public network\n",
    "- 6 - Parking lot open to public traffic\n",
    "- 9 - other"
   ]
  },
  {
   "cell_type": "code",
   "execution_count": 26,
   "id": "f1588c32",
   "metadata": {},
   "outputs": [],
   "source": [
    "places[\"RoadCategory\"] = places[\"RoadCategory\"].astype(int)"
   ]
  },
  {
   "cell_type": "code",
   "execution_count": 27,
   "id": "558a61fc",
   "metadata": {},
   "outputs": [
    {
     "data": {
      "text/plain": [
       "<AxesSubplot:>"
      ]
     },
     "execution_count": 27,
     "metadata": {},
     "output_type": "execute_result"
    },
    {
     "data": {
      "image/png": "[encoded data removed]",
      "text/plain": [
       "<Figure size 432x288 with 1 Axes>"
      ]
     },
     "metadata": {
      "needs_background": "light"
     },
     "output_type": "display_data"
    }
   ],
   "source": [
    "places[\"RoadCategory\"].hist()"
   ]
  },
  {
   "cell_type": "code",
   "execution_count": 28,
   "id": "4f0f95ac",
   "metadata": {},
   "outputs": [
    {
     "data": {
      "text/plain": [
       "<AxesSubplot:>"
      ]
     },
     "execution_count": 28,
     "metadata": {},
     "output_type": "execute_result"
    },
    {
     "data": {
      "image/png": "[encoded data removed]",
      "text/plain": [
       "<Figure size 432x288 with 1 Axes>"
      ]
     },
     "metadata": {
      "needs_background": "light"
     },
     "output_type": "display_data"
    }
   ],
   "source": [
    "places[\"TrafficType\"].hist()"
   ]
  },
  {
   "cell_type": "markdown",
   "id": "158e0073",
   "metadata": {},
   "source": [
    "circ: Traffic Type:\n",
    "- 1 - One way\n",
    "- 2 - Bidirectional\n",
    "- 3 - Separated carriageways\n",
    "- 4 - With variable assignment channels"
   ]
  },
  {
   "cell_type": "code",
   "execution_count": 29,
   "id": "d107f714",
   "metadata": {},
   "outputs": [],
   "source": [
    "places[\"TrafficType\"] = places[\"TrafficType\"].replace(-1,2)"
   ]
  },
  {
   "cell_type": "code",
   "execution_count": 30,
   "id": "55257127",
   "metadata": {},
   "outputs": [],
   "source": [
    "places[\"TrafficType\"] = places[\"TrafficType\"].astype(int)"
   ]
  },
  {
   "cell_type": "code",
   "execution_count": 31,
   "id": "09da27c9",
   "metadata": {},
   "outputs": [
    {
     "data": {
      "text/plain": [
       "<AxesSubplot:>"
      ]
     },
     "execution_count": 31,
     "metadata": {},
     "output_type": "execute_result"
    },
    {
     "data": {
      "image/png": "[encoded data removed]",
      "text/plain": [
       "<Figure size 432x288 with 1 Axes>"
      ]
     },
     "metadata": {
      "needs_background": "light"
     },
     "output_type": "display_data"
    }
   ],
   "source": [
    "places[\"TrafficType\"].hist()"
   ]
  },
  {
   "cell_type": "code",
   "execution_count": 32,
   "id": "b3711d37",
   "metadata": {},
   "outputs": [
    {
     "data": {
      "text/plain": [
       "<AxesSubplot:>"
      ]
     },
     "execution_count": 32,
     "metadata": {},
     "output_type": "execute_result"
    },
    {
     "data": {
      "image/png": "[encoded data removed]",
      "text/plain": [
       "<Figure size 432x288 with 1 Axes>"
      ]
     },
     "metadata": {
      "needs_background": "light"
     },
     "output_type": "display_data"
    }
   ],
   "source": [
    "places[\"NumberofLanes\"].hist()"
   ]
  },
  {
   "cell_type": "code",
   "execution_count": 33,
   "id": "42c01487",
   "metadata": {},
   "outputs": [],
   "source": [
    "places[\"NumberofLanes\"] = places[\"NumberofLanes\"].where(places[\"NumberofLanes\"] < 6,0)\n",
    "places[\"NumberofLanes\"] = places[\"NumberofLanes\"].replace(-1,2)"
   ]
  },
  {
   "cell_type": "code",
   "execution_count": 34,
   "id": "266cacb7",
   "metadata": {},
   "outputs": [
    {
     "data": {
      "text/plain": [
       "<AxesSubplot:>"
      ]
     },
     "execution_count": 34,
     "metadata": {},
     "output_type": "execute_result"
    },
    {
     "data": {
      "image/png": "[encoded data removed]",
      "text/plain": [
       "<Figure size 432x288 with 1 Axes>"
      ]
     },
     "metadata": {
      "needs_background": "light"
     },
     "output_type": "display_data"
    }
   ],
   "source": [
    "places[\"NumberofLanes\"].hist()"
   ]
  },
  {
   "cell_type": "markdown",
   "id": "3e4774d8",
   "metadata": {},
   "source": [
    "Similarly, in the \"surf\" column, we replace missing and null values by the most frequent value, 1."
   ]
  },
  {
   "cell_type": "code",
   "execution_count": 35,
   "id": "b8fe5f65",
   "metadata": {},
   "outputs": [
    {
     "data": {
      "text/plain": [
       "<AxesSubplot:>"
      ]
     },
     "execution_count": 35,
     "metadata": {},
     "output_type": "execute_result"
    },
    {
     "data": {
      "image/png": "[encoded data removed]",
      "text/plain": [
       "<Figure size 432x288 with 1 Axes>"
      ]
     },
     "metadata": {
      "needs_background": "light"
     },
     "output_type": "display_data"
    }
   ],
   "source": [
    "places[\"SurfaceCondition\"].hist()"
   ]
  },
  {
   "cell_type": "markdown",
   "id": "13bc3760",
   "metadata": {},
   "source": [
    "surf: surface condition\n",
    "- 1 - normal\n",
    "- 2 - wet\n",
    "- 3 - puddles\n",
    "- 4 - flooded\n",
    "- 5 - snow\n",
    "- 6 - mud\n",
    "- 7 - icy\n",
    "- 8 - fat - oil\n",
    "- 9 - other"
   ]
  },
  {
   "cell_type": "code",
   "execution_count": 36,
   "id": "96043ac0",
   "metadata": {},
   "outputs": [],
   "source": [
    "places[\"SurfaceCondition\"] = places[\"SurfaceCondition\"].astype(int)"
   ]
  },
  {
   "cell_type": "code",
   "execution_count": null,
   "id": "902b85d5",
   "metadata": {},
   "outputs": [],
   "source": []
  },
  {
   "cell_type": "code",
   "execution_count": 37,
   "id": "6560879e",
   "metadata": {},
   "outputs": [
    {
     "data": {
      "text/plain": [
       "<AxesSubplot:>"
      ]
     },
     "execution_count": 37,
     "metadata": {},
     "output_type": "execute_result"
    },
    {
     "data": {
      "image/png": "[encoded data removed]",
      "text/plain": [
       "<Figure size 432x288 with 1 Axes>"
      ]
     },
     "metadata": {
      "needs_background": "light"
     },
     "output_type": "display_data"
    }
   ],
   "source": [
    "places[\"Infrastructure\"].hist()"
   ]
  },
  {
   "cell_type": "markdown",
   "id": "d81e4e40",
   "metadata": {},
   "source": [
    "infra: Development - Infrastructure:\n",
    "- 1 - Underground - tunnel\n",
    "- 2 - Bridge - autopont\n",
    "- 3 - Exchanger or connection brace\n",
    "- 4 - Railway\n",
    "- 5 - Carrefour arranged\n",
    "- 6 - Pedestrian area\n",
    "- 7 - Toll zone"
   ]
  },
  {
   "cell_type": "code",
   "execution_count": 38,
   "id": "e004dd73",
   "metadata": {},
   "outputs": [
    {
     "data": {
      "text/plain": [
       "39559"
      ]
     },
     "execution_count": 38,
     "metadata": {},
     "output_type": "execute_result"
    }
   ],
   "source": [
    "(places[\"Infrastructure\"] == 0).sum()"
   ]
  },
  {
   "cell_type": "code",
   "execution_count": 39,
   "id": "43cd4cff",
   "metadata": {},
   "outputs": [
    {
     "data": {
      "text/plain": [
       "878"
      ]
     },
     "execution_count": 39,
     "metadata": {},
     "output_type": "execute_result"
    }
   ],
   "source": [
    "(places[\"Infrastructure\"] == -1).sum()"
   ]
  },
  {
   "cell_type": "markdown",
   "id": "4f6d1031",
   "metadata": {},
   "source": [
    "In the \"infra\" feature, almost 90% of the data is equal to 0. The missing values are too important so I decided to drop the entire column.\n",
    "\n"
   ]
  },
  {
   "cell_type": "code",
   "execution_count": 40,
   "id": "a943bc49",
   "metadata": {},
   "outputs": [],
   "source": [
    "places = places.drop([\"Infrastructure\"], axis=1)"
   ]
  },
  {
   "cell_type": "markdown",
   "id": "098d821e",
   "metadata": {},
   "source": [
    "And now we have a clean \"places\" dataset"
   ]
  },
  {
   "cell_type": "code",
   "execution_count": 41,
   "id": "61757e5a",
   "metadata": {},
   "outputs": [
    {
     "name": "stdout",
     "output_type": "stream",
     "text": [
      "<class 'pandas.core.frame.DataFrame'>\n",
      "Index: 47773 entries, 0 to 47772\n",
      "Data columns (total 5 columns):\n",
      " #   Column            Non-Null Count  Dtype \n",
      "---  ------            --------------  ----- \n",
      " 0   AccidentID        47773 non-null  object\n",
      " 1   RoadCategory      47773 non-null  int32 \n",
      " 2   TrafficType       47773 non-null  int32 \n",
      " 3   NumberofLanes     47773 non-null  int64 \n",
      " 4   SurfaceCondition  47773 non-null  int32 \n",
      "dtypes: int32(3), int64(1), object(1)\n",
      "memory usage: 1.6+ MB\n"
     ]
    }
   ],
   "source": [
    "places.info()"
   ]
  },
  {
   "cell_type": "code",
   "execution_count": 42,
   "id": "0e8020b6",
   "metadata": {},
   "outputs": [
    {
     "data": {
      "text/html": [
       "<div>\n",
       "<style scoped>\n",
       "    .dataframe tbody tr th:only-of-type {\n",
       "        vertical-align: middle;\n",
       "    }\n",
       "\n",
       "    .dataframe tbody tr th {\n",
       "        vertical-align: top;\n",
       "    }\n",
       "\n",
       "    .dataframe thead th {\n",
       "        text-align: right;\n",
       "    }\n",
       "</style>\n",
       "<table border=\"1\" class=\"dataframe\">\n",
       "  <thead>\n",
       "    <tr style=\"text-align: right;\">\n",
       "      <th></th>\n",
       "      <th>RoadCategory</th>\n",
       "      <th>TrafficType</th>\n",
       "      <th>NumberofLanes</th>\n",
       "      <th>SurfaceCondition</th>\n",
       "    </tr>\n",
       "  </thead>\n",
       "  <tbody>\n",
       "    <tr>\n",
       "      <th>count</th>\n",
       "      <td>47773.000000</td>\n",
       "      <td>47773.000000</td>\n",
       "      <td>47773.000000</td>\n",
       "      <td>47773.000000</td>\n",
       "    </tr>\n",
       "    <tr>\n",
       "      <th>mean</th>\n",
       "      <td>3.297595</td>\n",
       "      <td>1.984280</td>\n",
       "      <td>2.115107</td>\n",
       "      <td>1.285056</td>\n",
       "    </tr>\n",
       "    <tr>\n",
       "      <th>std</th>\n",
       "      <td>1.150379</td>\n",
       "      <td>0.582354</td>\n",
       "      <td>1.024505</td>\n",
       "      <td>0.861142</td>\n",
       "    </tr>\n",
       "    <tr>\n",
       "      <th>min</th>\n",
       "      <td>1.000000</td>\n",
       "      <td>1.000000</td>\n",
       "      <td>0.000000</td>\n",
       "      <td>-1.000000</td>\n",
       "    </tr>\n",
       "    <tr>\n",
       "      <th>25%</th>\n",
       "      <td>3.000000</td>\n",
       "      <td>2.000000</td>\n",
       "      <td>2.000000</td>\n",
       "      <td>1.000000</td>\n",
       "    </tr>\n",
       "    <tr>\n",
       "      <th>50%</th>\n",
       "      <td>3.000000</td>\n",
       "      <td>2.000000</td>\n",
       "      <td>2.000000</td>\n",
       "      <td>1.000000</td>\n",
       "    </tr>\n",
       "    <tr>\n",
       "      <th>75%</th>\n",
       "      <td>4.000000</td>\n",
       "      <td>2.000000</td>\n",
       "      <td>2.000000</td>\n",
       "      <td>1.000000</td>\n",
       "    </tr>\n",
       "    <tr>\n",
       "      <th>max</th>\n",
       "      <td>9.000000</td>\n",
       "      <td>4.000000</td>\n",
       "      <td>5.000000</td>\n",
       "      <td>9.000000</td>\n",
       "    </tr>\n",
       "  </tbody>\n",
       "</table>\n",
       "</div>"
      ],
      "text/plain": [
       "       RoadCategory   TrafficType  NumberofLanes  SurfaceCondition\n",
       "count  47773.000000  47773.000000   47773.000000      47773.000000\n",
       "mean       3.297595      1.984280       2.115107          1.285056\n",
       "std        1.150379      0.582354       1.024505          0.861142\n",
       "min        1.000000      1.000000       0.000000         -1.000000\n",
       "25%        3.000000      2.000000       2.000000          1.000000\n",
       "50%        3.000000      2.000000       2.000000          1.000000\n",
       "75%        4.000000      2.000000       2.000000          1.000000\n",
       "max        9.000000      4.000000       5.000000          9.000000"
      ]
     },
     "execution_count": 42,
     "metadata": {},
     "output_type": "execute_result"
    }
   ],
   "source": [
    "places.describe()"
   ]
  },
  {
   "cell_type": "markdown",
   "id": "b90adbbc",
   "metadata": {},
   "source": [
    "### Characteristics"
   ]
  },
  {
   "cell_type": "code",
   "execution_count": 43,
   "id": "ec76c443",
   "metadata": {},
   "outputs": [
    {
     "data": {
      "text/html": [
       "<div>\n",
       "<style scoped>\n",
       "    .dataframe tbody tr th:only-of-type {\n",
       "        vertical-align: middle;\n",
       "    }\n",
       "\n",
       "    .dataframe tbody tr th {\n",
       "        vertical-align: top;\n",
       "    }\n",
       "\n",
       "    .dataframe thead th {\n",
       "        text-align: right;\n",
       "    }\n",
       "</style>\n",
       "<table border=\"1\" class=\"dataframe\">\n",
       "  <thead>\n",
       "    <tr style=\"text-align: right;\">\n",
       "      <th></th>\n",
       "      <th>AccidentID</th>\n",
       "      <th>Day</th>\n",
       "      <th>Month</th>\n",
       "      <th>Year</th>\n",
       "      <th>Hour</th>\n",
       "      <th>LightingCondition</th>\n",
       "      <th>Department</th>\n",
       "      <th>Municipality</th>\n",
       "      <th>Localisation</th>\n",
       "      <th>Intersection</th>\n",
       "      <th>AtmosphericCondition</th>\n",
       "      <th>CollisionType</th>\n",
       "      <th>Address</th>\n",
       "      <th>Latitude</th>\n",
       "      <th>Longitude</th>\n",
       "    </tr>\n",
       "  </thead>\n",
       "  <tbody>\n",
       "    <tr>\n",
       "      <th>0</th>\n",
       "      <td>202 000 000 001</td>\n",
       "      <td>7</td>\n",
       "      <td>3</td>\n",
       "      <td>2020</td>\n",
       "      <td>1015</td>\n",
       "      <td>1</td>\n",
       "      <td>91</td>\n",
       "      <td>91657</td>\n",
       "      <td>2</td>\n",
       "      <td>3</td>\n",
       "      <td>1</td>\n",
       "      <td>3</td>\n",
       "      <td>HENRI BARBUSSE (AVENUE)</td>\n",
       "      <td>48.705350</td>\n",
       "      <td>2.438410</td>\n",
       "    </tr>\n",
       "    <tr>\n",
       "      <th>1</th>\n",
       "      <td>202 000 000 002</td>\n",
       "      <td>7</td>\n",
       "      <td>3</td>\n",
       "      <td>2020</td>\n",
       "      <td>515</td>\n",
       "      <td>2</td>\n",
       "      <td>91</td>\n",
       "      <td>91657</td>\n",
       "      <td>2</td>\n",
       "      <td>9</td>\n",
       "      <td>7</td>\n",
       "      <td>6</td>\n",
       "      <td>MOUSSEAUX(CHEMIN)</td>\n",
       "      <td>48.690000</td>\n",
       "      <td>2.410000</td>\n",
       "    </tr>\n",
       "    <tr>\n",
       "      <th>2</th>\n",
       "      <td>202 000 000 003</td>\n",
       "      <td>7</td>\n",
       "      <td>3</td>\n",
       "      <td>2020</td>\n",
       "      <td>810</td>\n",
       "      <td>1</td>\n",
       "      <td>91</td>\n",
       "      <td>91174</td>\n",
       "      <td>2</td>\n",
       "      <td>2</td>\n",
       "      <td>1</td>\n",
       "      <td>3</td>\n",
       "      <td>CARNOT(AVENUE)</td>\n",
       "      <td>48.610670</td>\n",
       "      <td>2.475820</td>\n",
       "    </tr>\n",
       "    <tr>\n",
       "      <th>3</th>\n",
       "      <td>202 000 000 004</td>\n",
       "      <td>7</td>\n",
       "      <td>3</td>\n",
       "      <td>2020</td>\n",
       "      <td>1130</td>\n",
       "      <td>5</td>\n",
       "      <td>91</td>\n",
       "      <td>91215</td>\n",
       "      <td>2</td>\n",
       "      <td>1</td>\n",
       "      <td>1</td>\n",
       "      <td>6</td>\n",
       "      <td>VICTOR HUGO (AVENUE)</td>\n",
       "      <td>48.697820</td>\n",
       "      <td>2.524460</td>\n",
       "    </tr>\n",
       "    <tr>\n",
       "      <th>4</th>\n",
       "      <td>202 000 000 005</td>\n",
       "      <td>7</td>\n",
       "      <td>3</td>\n",
       "      <td>2020</td>\n",
       "      <td>660</td>\n",
       "      <td>1</td>\n",
       "      <td>77</td>\n",
       "      <td>77181</td>\n",
       "      <td>1</td>\n",
       "      <td>6</td>\n",
       "      <td>1</td>\n",
       "      <td>2</td>\n",
       "      <td>LAGNY  (RUE DE  ) - D35</td>\n",
       "      <td>48.828646</td>\n",
       "      <td>2.705971</td>\n",
       "    </tr>\n",
       "  </tbody>\n",
       "</table>\n",
       "</div>"
      ],
      "text/plain": [
       "        AccidentID  Day  Month  Year  Hour  LightingCondition  Department  \\\n",
       "0  202 000 000 001    7      3  2020  1015                  1          91   \n",
       "1  202 000 000 002    7      3  2020   515                  2          91   \n",
       "2  202 000 000 003    7      3  2020   810                  1          91   \n",
       "3  202 000 000 004    7      3  2020  1130                  5          91   \n",
       "4  202 000 000 005    7      3  2020   660                  1          77   \n",
       "\n",
       "  Municipality  Localisation  Intersection  AtmosphericCondition  \\\n",
       "0        91657             2             3                     1   \n",
       "1        91657             2             9                     7   \n",
       "2        91174             2             2                     1   \n",
       "3        91215             2             1                     1   \n",
       "4        77181             1             6                     1   \n",
       "\n",
       "   CollisionType                  Address   Latitude  Longitude  \n",
       "0              3  HENRI BARBUSSE (AVENUE)  48.705350   2.438410  \n",
       "1              6        MOUSSEAUX(CHEMIN)  48.690000   2.410000  \n",
       "2              3           CARNOT(AVENUE)  48.610670   2.475820  \n",
       "3              6     VICTOR HUGO (AVENUE)  48.697820   2.524460  \n",
       "4              2  LAGNY  (RUE DE  ) - D35  48.828646   2.705971  "
      ]
     },
     "execution_count": 43,
     "metadata": {},
     "output_type": "execute_result"
    }
   ],
   "source": [
    "characteristics.head()"
   ]
  },
  {
   "cell_type": "markdown",
   "id": "3fa17b16",
   "metadata": {},
   "source": [
    "Similarly for the \"caracteristics\" dataset, we keep only the interesting values: \"month\", \"day of month\", \"time\", \"lighting\", \"agglomeration\", \"intersection\", \"atmospheric condition\", \"department\"\n",
    "\n"
   ]
  },
  {
   "cell_type": "code",
   "execution_count": 44,
   "id": "4ecbc2fd",
   "metadata": {},
   "outputs": [
    {
     "data": {
      "text/html": [
       "<div>\n",
       "<style scoped>\n",
       "    .dataframe tbody tr th:only-of-type {\n",
       "        vertical-align: middle;\n",
       "    }\n",
       "\n",
       "    .dataframe tbody tr th {\n",
       "        vertical-align: top;\n",
       "    }\n",
       "\n",
       "    .dataframe thead th {\n",
       "        text-align: right;\n",
       "    }\n",
       "</style>\n",
       "<table border=\"1\" class=\"dataframe\">\n",
       "  <thead>\n",
       "    <tr style=\"text-align: right;\">\n",
       "      <th></th>\n",
       "      <th>AccidentID</th>\n",
       "      <th>Day</th>\n",
       "      <th>Month</th>\n",
       "      <th>Hour</th>\n",
       "      <th>LightingCondition</th>\n",
       "      <th>Department</th>\n",
       "      <th>Localisation</th>\n",
       "      <th>Intersection</th>\n",
       "      <th>AtmosphericCondition</th>\n",
       "    </tr>\n",
       "  </thead>\n",
       "  <tbody>\n",
       "    <tr>\n",
       "      <th>0</th>\n",
       "      <td>202 000 000 001</td>\n",
       "      <td>7</td>\n",
       "      <td>3</td>\n",
       "      <td>1015</td>\n",
       "      <td>1</td>\n",
       "      <td>91</td>\n",
       "      <td>2</td>\n",
       "      <td>3</td>\n",
       "      <td>1</td>\n",
       "    </tr>\n",
       "    <tr>\n",
       "      <th>1</th>\n",
       "      <td>202 000 000 002</td>\n",
       "      <td>7</td>\n",
       "      <td>3</td>\n",
       "      <td>515</td>\n",
       "      <td>2</td>\n",
       "      <td>91</td>\n",
       "      <td>2</td>\n",
       "      <td>9</td>\n",
       "      <td>7</td>\n",
       "    </tr>\n",
       "    <tr>\n",
       "      <th>2</th>\n",
       "      <td>202 000 000 003</td>\n",
       "      <td>7</td>\n",
       "      <td>3</td>\n",
       "      <td>810</td>\n",
       "      <td>1</td>\n",
       "      <td>91</td>\n",
       "      <td>2</td>\n",
       "      <td>2</td>\n",
       "      <td>1</td>\n",
       "    </tr>\n",
       "    <tr>\n",
       "      <th>3</th>\n",
       "      <td>202 000 000 004</td>\n",
       "      <td>7</td>\n",
       "      <td>3</td>\n",
       "      <td>1130</td>\n",
       "      <td>5</td>\n",
       "      <td>91</td>\n",
       "      <td>2</td>\n",
       "      <td>1</td>\n",
       "      <td>1</td>\n",
       "    </tr>\n",
       "    <tr>\n",
       "      <th>4</th>\n",
       "      <td>202 000 000 005</td>\n",
       "      <td>7</td>\n",
       "      <td>3</td>\n",
       "      <td>660</td>\n",
       "      <td>1</td>\n",
       "      <td>77</td>\n",
       "      <td>1</td>\n",
       "      <td>6</td>\n",
       "      <td>1</td>\n",
       "    </tr>\n",
       "  </tbody>\n",
       "</table>\n",
       "</div>"
      ],
      "text/plain": [
       "        AccidentID  Day  Month  Hour  LightingCondition  Department  \\\n",
       "0  202 000 000 001    7      3  1015                  1          91   \n",
       "1  202 000 000 002    7      3   515                  2          91   \n",
       "2  202 000 000 003    7      3   810                  1          91   \n",
       "3  202 000 000 004    7      3  1130                  5          91   \n",
       "4  202 000 000 005    7      3   660                  1          77   \n",
       "\n",
       "   Localisation  Intersection  AtmosphericCondition  \n",
       "0             2             3                     1  \n",
       "1             2             9                     7  \n",
       "2             2             2                     1  \n",
       "3             2             1                     1  \n",
       "4             1             6                     1  "
      ]
     },
     "execution_count": 44,
     "metadata": {},
     "output_type": "execute_result"
    }
   ],
   "source": [
    "characteristics = characteristics.drop([\"Year\", \"CollisionType\", \"Municipality\", \"Address\", \"Latitude\", \"Longitude\"], axis=1)\n",
    "characteristics.head()"
   ]
  },
  {
   "cell_type": "code",
   "execution_count": 45,
   "id": "b9406b6c",
   "metadata": {},
   "outputs": [
    {
     "name": "stdout",
     "output_type": "stream",
     "text": [
      "<class 'pandas.core.frame.DataFrame'>\n",
      "Index: 9819 entries, 0 to 9818\n",
      "Data columns (total 9 columns):\n",
      " #   Column                Non-Null Count  Dtype \n",
      "---  ------                --------------  ----- \n",
      " 0   AccidentID            9819 non-null   object\n",
      " 1   Day                   9819 non-null   int64 \n",
      " 2   Month                 9819 non-null   int64 \n",
      " 3   Hour                  9819 non-null   int64 \n",
      " 4   LightingCondition     9819 non-null   int64 \n",
      " 5   Department            9819 non-null   int64 \n",
      " 6   Localisation          9819 non-null   int64 \n",
      " 7   Intersection          9819 non-null   int64 \n",
      " 8   AtmosphericCondition  9819 non-null   int64 \n",
      "dtypes: int64(8), object(1)\n",
      "memory usage: 767.1+ KB\n"
     ]
    }
   ],
   "source": [
    "characteristics.info()"
   ]
  },
  {
   "cell_type": "code",
   "execution_count": 46,
   "id": "a7022c04",
   "metadata": {},
   "outputs": [
    {
     "data": {
      "text/plain": [
       "<AxesSubplot:>"
      ]
     },
     "execution_count": 46,
     "metadata": {},
     "output_type": "execute_result"
    },
    {
     "data": {
      "image/png": "[encoded data removed]",
      "text/plain": [
       "<Figure size 432x288 with 1 Axes>"
      ]
     },
     "metadata": {
      "needs_background": "light"
     },
     "output_type": "display_data"
    }
   ],
   "source": [
    "characteristics[\"AtmosphericCondition\"].hist()"
   ]
  },
  {
   "cell_type": "code",
   "execution_count": 47,
   "id": "2e00a998",
   "metadata": {},
   "outputs": [],
   "source": [
    "characteristics[\"AtmosphericCondition\"] = characteristics[\"AtmosphericCondition\"].astype(int)"
   ]
  },
  {
   "cell_type": "markdown",
   "id": "5ff68008",
   "metadata": {},
   "source": [
    "For the \"hrmn\", we have a bit more transformation to do.\n",
    "\n",
    "The data is displayed with 4 numbers, 2 for the hour and 2 for the min.\n",
    "\n",
    "In my opinion, we can reduce the precision and create larger categories. I will keep only the information about the hour (2 first numbers).\n",
    "\n",
    "So we can compute all the data in the column to keep only the 2 first digits: we divide by 100 and then floor the number."
   ]
  },
  {
   "cell_type": "code",
   "execution_count": 48,
   "id": "908776a7",
   "metadata": {},
   "outputs": [],
   "source": [
    "characteristics[\"Hour\"] = characteristics[\"Hour\"].div(100).apply(np.floor)"
   ]
  },
  {
   "cell_type": "code",
   "execution_count": 49,
   "id": "9c2c694a",
   "metadata": {},
   "outputs": [],
   "source": [
    "characteristics[\"Hour\"] = characteristics[\"Hour\"].astype(int)\n"
   ]
  },
  {
   "cell_type": "code",
   "execution_count": 50,
   "id": "e2176a13",
   "metadata": {},
   "outputs": [
    {
     "data": {
      "text/plain": [
       "<AxesSubplot:>"
      ]
     },
     "execution_count": 50,
     "metadata": {},
     "output_type": "execute_result"
    },
    {
     "data": {
      "image/png": "[encoded data removed]",
      "text/plain": [
       "<Figure size 432x288 with 1 Axes>"
      ]
     },
     "metadata": {
      "needs_background": "light"
     },
     "output_type": "display_data"
    }
   ],
   "source": [
    "characteristics[\"Hour\"].hist()"
   ]
  },
  {
   "cell_type": "markdown",
   "id": "fa43d402",
   "metadata": {},
   "source": [
    "We have quite the same transformation to make with the departments, which are usually given in 2 digits except for here were they are given in 3 digits to make a difference between the overseas department.\n",
    "\n",
    "I suggest that we skip on this precision and keep the department on a range 1 to 97, with 2 digits."
   ]
  },
  {
   "cell_type": "code",
   "execution_count": 51,
   "id": "f1adb3c8",
   "metadata": {},
   "outputs": [],
   "source": [
    "characteristics[\"Department\"] = characteristics[\"Department\"].div(10).apply(np.floor)"
   ]
  },
  {
   "cell_type": "code",
   "execution_count": 52,
   "id": "ad4fac0a",
   "metadata": {},
   "outputs": [],
   "source": [
    "characteristics[\"Department\"] = characteristics[\"Department\"].astype(int)"
   ]
  },
  {
   "cell_type": "markdown",
   "id": "5ada19f3",
   "metadata": {},
   "source": [
    "Now we have and clear and nice \"caracteristics\" dataset"
   ]
  },
  {
   "cell_type": "code",
   "execution_count": 53,
   "id": "fc9b3f20",
   "metadata": {},
   "outputs": [
    {
     "name": "stdout",
     "output_type": "stream",
     "text": [
      "<class 'pandas.core.frame.DataFrame'>\n",
      "Index: 9819 entries, 0 to 9818\n",
      "Data columns (total 9 columns):\n",
      " #   Column                Non-Null Count  Dtype \n",
      "---  ------                --------------  ----- \n",
      " 0   AccidentID            9819 non-null   object\n",
      " 1   Day                   9819 non-null   int64 \n",
      " 2   Month                 9819 non-null   int64 \n",
      " 3   Hour                  9819 non-null   int32 \n",
      " 4   LightingCondition     9819 non-null   int64 \n",
      " 5   Department            9819 non-null   int32 \n",
      " 6   Localisation          9819 non-null   int64 \n",
      " 7   Intersection          9819 non-null   int64 \n",
      " 8   AtmosphericCondition  9819 non-null   int32 \n",
      "dtypes: int32(3), int64(5), object(1)\n",
      "memory usage: 652.0+ KB\n"
     ]
    }
   ],
   "source": [
    "characteristics.info()\n"
   ]
  },
  {
   "cell_type": "code",
   "execution_count": null,
   "id": "98e1ef9e",
   "metadata": {},
   "outputs": [],
   "source": []
  },
  {
   "cell_type": "markdown",
   "id": "3fb8c25b",
   "metadata": {},
   "source": [
    "# Dataset Merge"
   ]
  },
  {
   "cell_type": "markdown",
   "id": "c0636e62",
   "metadata": {},
   "source": [
    "Accident ID is common attribute in all these four files."
   ]
  },
  {
   "cell_type": "code",
   "execution_count": 54,
   "id": "8030693e",
   "metadata": {},
   "outputs": [],
   "source": [
    "accidents = pd.merge(characteristics, places, how=\"outer\", on=\"AccidentID\")"
   ]
  },
  {
   "cell_type": "code",
   "execution_count": 55,
   "id": "f60d91f1",
   "metadata": {},
   "outputs": [
    {
     "data": {
      "text/html": [
       "<div>\n",
       "<style scoped>\n",
       "    .dataframe tbody tr th:only-of-type {\n",
       "        vertical-align: middle;\n",
       "    }\n",
       "\n",
       "    .dataframe tbody tr th {\n",
       "        vertical-align: top;\n",
       "    }\n",
       "\n",
       "    .dataframe thead th {\n",
       "        text-align: right;\n",
       "    }\n",
       "</style>\n",
       "<table border=\"1\" class=\"dataframe\">\n",
       "  <thead>\n",
       "    <tr style=\"text-align: right;\">\n",
       "      <th></th>\n",
       "      <th>Day</th>\n",
       "      <th>Month</th>\n",
       "      <th>Hour</th>\n",
       "      <th>LightingCondition</th>\n",
       "      <th>Department</th>\n",
       "      <th>Localisation</th>\n",
       "      <th>Intersection</th>\n",
       "      <th>AtmosphericCondition</th>\n",
       "      <th>RoadCategory</th>\n",
       "      <th>TrafficType</th>\n",
       "      <th>NumberofLanes</th>\n",
       "      <th>SurfaceCondition</th>\n",
       "    </tr>\n",
       "  </thead>\n",
       "  <tbody>\n",
       "    <tr>\n",
       "      <th>count</th>\n",
       "      <td>9821.000000</td>\n",
       "      <td>9821.000000</td>\n",
       "      <td>9821.000000</td>\n",
       "      <td>9821.000000</td>\n",
       "      <td>9821.000000</td>\n",
       "      <td>9821.000000</td>\n",
       "      <td>9821.000000</td>\n",
       "      <td>9821.000000</td>\n",
       "      <td>47773.000000</td>\n",
       "      <td>47773.000000</td>\n",
       "      <td>47773.000000</td>\n",
       "      <td>47773.000000</td>\n",
       "    </tr>\n",
       "    <tr>\n",
       "      <th>mean</th>\n",
       "      <td>17.624478</td>\n",
       "      <td>6.695652</td>\n",
       "      <td>7.932492</td>\n",
       "      <td>1.929844</td>\n",
       "      <td>10.709398</td>\n",
       "      <td>1.645555</td>\n",
       "      <td>2.068221</td>\n",
       "      <td>1.552999</td>\n",
       "      <td>3.297595</td>\n",
       "      <td>1.984280</td>\n",
       "      <td>2.115107</td>\n",
       "      <td>1.285056</td>\n",
       "    </tr>\n",
       "    <tr>\n",
       "      <th>std</th>\n",
       "      <td>8.221829</td>\n",
       "      <td>3.223471</td>\n",
       "      <td>3.322151</td>\n",
       "      <td>1.504124</td>\n",
       "      <td>21.761315</td>\n",
       "      <td>0.478369</td>\n",
       "      <td>2.033184</td>\n",
       "      <td>1.597467</td>\n",
       "      <td>1.150379</td>\n",
       "      <td>0.582354</td>\n",
       "      <td>1.024505</td>\n",
       "      <td>0.861142</td>\n",
       "    </tr>\n",
       "    <tr>\n",
       "      <th>min</th>\n",
       "      <td>1.000000</td>\n",
       "      <td>1.000000</td>\n",
       "      <td>0.000000</td>\n",
       "      <td>-1.000000</td>\n",
       "      <td>0.000000</td>\n",
       "      <td>1.000000</td>\n",
       "      <td>1.000000</td>\n",
       "      <td>-1.000000</td>\n",
       "      <td>1.000000</td>\n",
       "      <td>1.000000</td>\n",
       "      <td>0.000000</td>\n",
       "      <td>-1.000000</td>\n",
       "    </tr>\n",
       "    <tr>\n",
       "      <th>25%</th>\n",
       "      <td>14.000000</td>\n",
       "      <td>5.000000</td>\n",
       "      <td>6.000000</td>\n",
       "      <td>1.000000</td>\n",
       "      <td>3.000000</td>\n",
       "      <td>1.000000</td>\n",
       "      <td>1.000000</td>\n",
       "      <td>1.000000</td>\n",
       "      <td>3.000000</td>\n",
       "      <td>2.000000</td>\n",
       "      <td>2.000000</td>\n",
       "      <td>1.000000</td>\n",
       "    </tr>\n",
       "    <tr>\n",
       "      <th>50%</th>\n",
       "      <td>19.000000</td>\n",
       "      <td>7.000000</td>\n",
       "      <td>8.000000</td>\n",
       "      <td>1.000000</td>\n",
       "      <td>6.000000</td>\n",
       "      <td>2.000000</td>\n",
       "      <td>1.000000</td>\n",
       "      <td>1.000000</td>\n",
       "      <td>3.000000</td>\n",
       "      <td>2.000000</td>\n",
       "      <td>2.000000</td>\n",
       "      <td>1.000000</td>\n",
       "    </tr>\n",
       "    <tr>\n",
       "      <th>75%</th>\n",
       "      <td>23.000000</td>\n",
       "      <td>9.000000</td>\n",
       "      <td>10.000000</td>\n",
       "      <td>3.000000</td>\n",
       "      <td>8.000000</td>\n",
       "      <td>2.000000</td>\n",
       "      <td>2.000000</td>\n",
       "      <td>1.000000</td>\n",
       "      <td>4.000000</td>\n",
       "      <td>2.000000</td>\n",
       "      <td>2.000000</td>\n",
       "      <td>1.000000</td>\n",
       "    </tr>\n",
       "    <tr>\n",
       "      <th>max</th>\n",
       "      <td>31.000000</td>\n",
       "      <td>12.000000</td>\n",
       "      <td>14.000000</td>\n",
       "      <td>5.000000</td>\n",
       "      <td>98.000000</td>\n",
       "      <td>2.000000</td>\n",
       "      <td>9.000000</td>\n",
       "      <td>9.000000</td>\n",
       "      <td>9.000000</td>\n",
       "      <td>4.000000</td>\n",
       "      <td>5.000000</td>\n",
       "      <td>9.000000</td>\n",
       "    </tr>\n",
       "  </tbody>\n",
       "</table>\n",
       "</div>"
      ],
      "text/plain": [
       "               Day        Month         Hour  LightingCondition   Department  \\\n",
       "count  9821.000000  9821.000000  9821.000000        9821.000000  9821.000000   \n",
       "mean     17.624478     6.695652     7.932492           1.929844    10.709398   \n",
       "std       8.221829     3.223471     3.322151           1.504124    21.761315   \n",
       "min       1.000000     1.000000     0.000000          -1.000000     0.000000   \n",
       "25%      14.000000     5.000000     6.000000           1.000000     3.000000   \n",
       "50%      19.000000     7.000000     8.000000           1.000000     6.000000   \n",
       "75%      23.000000     9.000000    10.000000           3.000000     8.000000   \n",
       "max      31.000000    12.000000    14.000000           5.000000    98.000000   \n",
       "\n",
       "       Localisation  Intersection  AtmosphericCondition  RoadCategory  \\\n",
       "count   9821.000000   9821.000000           9821.000000  47773.000000   \n",
       "mean       1.645555      2.068221              1.552999      3.297595   \n",
       "std        0.478369      2.033184              1.597467      1.150379   \n",
       "min        1.000000      1.000000             -1.000000      1.000000   \n",
       "25%        1.000000      1.000000              1.000000      3.000000   \n",
       "50%        2.000000      1.000000              1.000000      3.000000   \n",
       "75%        2.000000      2.000000              1.000000      4.000000   \n",
       "max        2.000000      9.000000              9.000000      9.000000   \n",
       "\n",
       "        TrafficType  NumberofLanes  SurfaceCondition  \n",
       "count  47773.000000   47773.000000      47773.000000  \n",
       "mean       1.984280       2.115107          1.285056  \n",
       "std        0.582354       1.024505          0.861142  \n",
       "min        1.000000       0.000000         -1.000000  \n",
       "25%        2.000000       2.000000          1.000000  \n",
       "50%        2.000000       2.000000          1.000000  \n",
       "75%        2.000000       2.000000          1.000000  \n",
       "max        4.000000       5.000000          9.000000  "
      ]
     },
     "execution_count": 55,
     "metadata": {},
     "output_type": "execute_result"
    }
   ],
   "source": [
    "accidents.describe()\n"
   ]
  },
  {
   "cell_type": "code",
   "execution_count": 56,
   "id": "6a29a1e2",
   "metadata": {},
   "outputs": [],
   "source": [
    "accidents = pd.merge(accidents, users, how=\"outer\", on=\"AccidentID\")\n"
   ]
  },
  {
   "cell_type": "code",
   "execution_count": 57,
   "id": "b9ee2753",
   "metadata": {},
   "outputs": [
    {
     "name": "stdout",
     "output_type": "stream",
     "text": [
      "Rows:  47773 Columns:  14\n"
     ]
    }
   ],
   "source": [
    "#Glimpse the dataset\n",
    "print(\"Rows: \", accidents.shape[0], \"Columns: \", accidents.shape[1])"
   ]
  },
  {
   "cell_type": "code",
   "execution_count": 58,
   "id": "f2bf55ca",
   "metadata": {},
   "outputs": [
    {
     "data": {
      "text/html": [
       "<div>\n",
       "<style scoped>\n",
       "    .dataframe tbody tr th:only-of-type {\n",
       "        vertical-align: middle;\n",
       "    }\n",
       "\n",
       "    .dataframe tbody tr th {\n",
       "        vertical-align: top;\n",
       "    }\n",
       "\n",
       "    .dataframe thead th {\n",
       "        text-align: right;\n",
       "    }\n",
       "</style>\n",
       "<table border=\"1\" class=\"dataframe\">\n",
       "  <thead>\n",
       "    <tr style=\"text-align: right;\">\n",
       "      <th></th>\n",
       "      <th>AccidentID</th>\n",
       "      <th>Day</th>\n",
       "      <th>Month</th>\n",
       "      <th>Hour</th>\n",
       "      <th>LightingCondition</th>\n",
       "      <th>Department</th>\n",
       "      <th>Localisation</th>\n",
       "      <th>Intersection</th>\n",
       "      <th>AtmosphericCondition</th>\n",
       "      <th>RoadCategory</th>\n",
       "      <th>TrafficType</th>\n",
       "      <th>NumberofLanes</th>\n",
       "      <th>SurfaceCondition</th>\n",
       "      <th>Severity</th>\n",
       "    </tr>\n",
       "  </thead>\n",
       "  <tbody>\n",
       "    <tr>\n",
       "      <th>0</th>\n",
       "      <td>202 000 000 001</td>\n",
       "      <td>7.0</td>\n",
       "      <td>3.0</td>\n",
       "      <td>10.0</td>\n",
       "      <td>1.0</td>\n",
       "      <td>9.0</td>\n",
       "      <td>2.0</td>\n",
       "      <td>3.0</td>\n",
       "      <td>1.0</td>\n",
       "      <td>4</td>\n",
       "      <td>2</td>\n",
       "      <td>2</td>\n",
       "      <td>1</td>\n",
       "      <td>1</td>\n",
       "    </tr>\n",
       "    <tr>\n",
       "      <th>1</th>\n",
       "      <td>202 000 000 002</td>\n",
       "      <td>7.0</td>\n",
       "      <td>3.0</td>\n",
       "      <td>5.0</td>\n",
       "      <td>2.0</td>\n",
       "      <td>9.0</td>\n",
       "      <td>2.0</td>\n",
       "      <td>9.0</td>\n",
       "      <td>7.0</td>\n",
       "      <td>4</td>\n",
       "      <td>2</td>\n",
       "      <td>2</td>\n",
       "      <td>1</td>\n",
       "      <td>0</td>\n",
       "    </tr>\n",
       "    <tr>\n",
       "      <th>2</th>\n",
       "      <td>202 000 000 003</td>\n",
       "      <td>7.0</td>\n",
       "      <td>3.0</td>\n",
       "      <td>8.0</td>\n",
       "      <td>1.0</td>\n",
       "      <td>9.0</td>\n",
       "      <td>2.0</td>\n",
       "      <td>2.0</td>\n",
       "      <td>1.0</td>\n",
       "      <td>4</td>\n",
       "      <td>2</td>\n",
       "      <td>2</td>\n",
       "      <td>1</td>\n",
       "      <td>1</td>\n",
       "    </tr>\n",
       "    <tr>\n",
       "      <th>3</th>\n",
       "      <td>202 000 000 004</td>\n",
       "      <td>7.0</td>\n",
       "      <td>3.0</td>\n",
       "      <td>11.0</td>\n",
       "      <td>5.0</td>\n",
       "      <td>9.0</td>\n",
       "      <td>2.0</td>\n",
       "      <td>1.0</td>\n",
       "      <td>1.0</td>\n",
       "      <td>4</td>\n",
       "      <td>2</td>\n",
       "      <td>2</td>\n",
       "      <td>1</td>\n",
       "      <td>1</td>\n",
       "    </tr>\n",
       "    <tr>\n",
       "      <th>4</th>\n",
       "      <td>202 000 000 005</td>\n",
       "      <td>7.0</td>\n",
       "      <td>3.0</td>\n",
       "      <td>6.0</td>\n",
       "      <td>1.0</td>\n",
       "      <td>7.0</td>\n",
       "      <td>1.0</td>\n",
       "      <td>6.0</td>\n",
       "      <td>1.0</td>\n",
       "      <td>3</td>\n",
       "      <td>1</td>\n",
       "      <td>1</td>\n",
       "      <td>1</td>\n",
       "      <td>0</td>\n",
       "    </tr>\n",
       "  </tbody>\n",
       "</table>\n",
       "</div>"
      ],
      "text/plain": [
       "        AccidentID  Day  Month  Hour  LightingCondition  Department  \\\n",
       "0  202 000 000 001  7.0    3.0  10.0                1.0         9.0   \n",
       "1  202 000 000 002  7.0    3.0   5.0                2.0         9.0   \n",
       "2  202 000 000 003  7.0    3.0   8.0                1.0         9.0   \n",
       "3  202 000 000 004  7.0    3.0  11.0                5.0         9.0   \n",
       "4  202 000 000 005  7.0    3.0   6.0                1.0         7.0   \n",
       "\n",
       "   Localisation  Intersection  AtmosphericCondition  RoadCategory  \\\n",
       "0           2.0           3.0                   1.0             4   \n",
       "1           2.0           9.0                   7.0             4   \n",
       "2           2.0           2.0                   1.0             4   \n",
       "3           2.0           1.0                   1.0             4   \n",
       "4           1.0           6.0                   1.0             3   \n",
       "\n",
       "   TrafficType  NumberofLanes  SurfaceCondition  Severity  \n",
       "0            2              2                 1         1  \n",
       "1            2              2                 1         0  \n",
       "2            2              2                 1         1  \n",
       "3            2              2                 1         1  \n",
       "4            1              1                 1         0  "
      ]
     },
     "execution_count": 58,
     "metadata": {},
     "output_type": "execute_result"
    }
   ],
   "source": [
    "accidents.head()"
   ]
  },
  {
   "cell_type": "code",
   "execution_count": 59,
   "id": "c5ac19f6",
   "metadata": {},
   "outputs": [
    {
     "data": {
      "text/html": [
       "<div>\n",
       "<style scoped>\n",
       "    .dataframe tbody tr th:only-of-type {\n",
       "        vertical-align: middle;\n",
       "    }\n",
       "\n",
       "    .dataframe tbody tr th {\n",
       "        vertical-align: top;\n",
       "    }\n",
       "\n",
       "    .dataframe thead th {\n",
       "        text-align: right;\n",
       "    }\n",
       "</style>\n",
       "<table border=\"1\" class=\"dataframe\">\n",
       "  <thead>\n",
       "    <tr style=\"text-align: right;\">\n",
       "      <th></th>\n",
       "      <th>Day</th>\n",
       "      <th>Month</th>\n",
       "      <th>Hour</th>\n",
       "      <th>LightingCondition</th>\n",
       "      <th>Department</th>\n",
       "      <th>Localisation</th>\n",
       "      <th>Intersection</th>\n",
       "      <th>AtmosphericCondition</th>\n",
       "      <th>RoadCategory</th>\n",
       "      <th>TrafficType</th>\n",
       "      <th>NumberofLanes</th>\n",
       "      <th>SurfaceCondition</th>\n",
       "      <th>Severity</th>\n",
       "    </tr>\n",
       "  </thead>\n",
       "  <tbody>\n",
       "    <tr>\n",
       "      <th>count</th>\n",
       "      <td>9821.000000</td>\n",
       "      <td>9821.000000</td>\n",
       "      <td>9821.000000</td>\n",
       "      <td>9821.000000</td>\n",
       "      <td>9821.000000</td>\n",
       "      <td>9821.000000</td>\n",
       "      <td>9821.000000</td>\n",
       "      <td>9821.000000</td>\n",
       "      <td>47773.000000</td>\n",
       "      <td>47773.000000</td>\n",
       "      <td>47773.000000</td>\n",
       "      <td>47773.000000</td>\n",
       "      <td>47773.000000</td>\n",
       "    </tr>\n",
       "    <tr>\n",
       "      <th>mean</th>\n",
       "      <td>17.624478</td>\n",
       "      <td>6.695652</td>\n",
       "      <td>7.932492</td>\n",
       "      <td>1.929844</td>\n",
       "      <td>10.709398</td>\n",
       "      <td>1.645555</td>\n",
       "      <td>2.068221</td>\n",
       "      <td>1.552999</td>\n",
       "      <td>3.297595</td>\n",
       "      <td>1.984280</td>\n",
       "      <td>2.115107</td>\n",
       "      <td>1.285056</td>\n",
       "      <td>0.360936</td>\n",
       "    </tr>\n",
       "    <tr>\n",
       "      <th>std</th>\n",
       "      <td>8.221829</td>\n",
       "      <td>3.223471</td>\n",
       "      <td>3.322151</td>\n",
       "      <td>1.504124</td>\n",
       "      <td>21.761315</td>\n",
       "      <td>0.478369</td>\n",
       "      <td>2.033184</td>\n",
       "      <td>1.597467</td>\n",
       "      <td>1.150379</td>\n",
       "      <td>0.582354</td>\n",
       "      <td>1.024505</td>\n",
       "      <td>0.861142</td>\n",
       "      <td>0.480277</td>\n",
       "    </tr>\n",
       "    <tr>\n",
       "      <th>min</th>\n",
       "      <td>1.000000</td>\n",
       "      <td>1.000000</td>\n",
       "      <td>0.000000</td>\n",
       "      <td>-1.000000</td>\n",
       "      <td>0.000000</td>\n",
       "      <td>1.000000</td>\n",
       "      <td>1.000000</td>\n",
       "      <td>-1.000000</td>\n",
       "      <td>1.000000</td>\n",
       "      <td>1.000000</td>\n",
       "      <td>0.000000</td>\n",
       "      <td>-1.000000</td>\n",
       "      <td>0.000000</td>\n",
       "    </tr>\n",
       "    <tr>\n",
       "      <th>25%</th>\n",
       "      <td>14.000000</td>\n",
       "      <td>5.000000</td>\n",
       "      <td>6.000000</td>\n",
       "      <td>1.000000</td>\n",
       "      <td>3.000000</td>\n",
       "      <td>1.000000</td>\n",
       "      <td>1.000000</td>\n",
       "      <td>1.000000</td>\n",
       "      <td>3.000000</td>\n",
       "      <td>2.000000</td>\n",
       "      <td>2.000000</td>\n",
       "      <td>1.000000</td>\n",
       "      <td>0.000000</td>\n",
       "    </tr>\n",
       "    <tr>\n",
       "      <th>50%</th>\n",
       "      <td>19.000000</td>\n",
       "      <td>7.000000</td>\n",
       "      <td>8.000000</td>\n",
       "      <td>1.000000</td>\n",
       "      <td>6.000000</td>\n",
       "      <td>2.000000</td>\n",
       "      <td>1.000000</td>\n",
       "      <td>1.000000</td>\n",
       "      <td>3.000000</td>\n",
       "      <td>2.000000</td>\n",
       "      <td>2.000000</td>\n",
       "      <td>1.000000</td>\n",
       "      <td>0.000000</td>\n",
       "    </tr>\n",
       "    <tr>\n",
       "      <th>75%</th>\n",
       "      <td>23.000000</td>\n",
       "      <td>9.000000</td>\n",
       "      <td>10.000000</td>\n",
       "      <td>3.000000</td>\n",
       "      <td>8.000000</td>\n",
       "      <td>2.000000</td>\n",
       "      <td>2.000000</td>\n",
       "      <td>1.000000</td>\n",
       "      <td>4.000000</td>\n",
       "      <td>2.000000</td>\n",
       "      <td>2.000000</td>\n",
       "      <td>1.000000</td>\n",
       "      <td>1.000000</td>\n",
       "    </tr>\n",
       "    <tr>\n",
       "      <th>max</th>\n",
       "      <td>31.000000</td>\n",
       "      <td>12.000000</td>\n",
       "      <td>14.000000</td>\n",
       "      <td>5.000000</td>\n",
       "      <td>98.000000</td>\n",
       "      <td>2.000000</td>\n",
       "      <td>9.000000</td>\n",
       "      <td>9.000000</td>\n",
       "      <td>9.000000</td>\n",
       "      <td>4.000000</td>\n",
       "      <td>5.000000</td>\n",
       "      <td>9.000000</td>\n",
       "      <td>1.000000</td>\n",
       "    </tr>\n",
       "  </tbody>\n",
       "</table>\n",
       "</div>"
      ],
      "text/plain": [
       "               Day        Month         Hour  LightingCondition   Department  \\\n",
       "count  9821.000000  9821.000000  9821.000000        9821.000000  9821.000000   \n",
       "mean     17.624478     6.695652     7.932492           1.929844    10.709398   \n",
       "std       8.221829     3.223471     3.322151           1.504124    21.761315   \n",
       "min       1.000000     1.000000     0.000000          -1.000000     0.000000   \n",
       "25%      14.000000     5.000000     6.000000           1.000000     3.000000   \n",
       "50%      19.000000     7.000000     8.000000           1.000000     6.000000   \n",
       "75%      23.000000     9.000000    10.000000           3.000000     8.000000   \n",
       "max      31.000000    12.000000    14.000000           5.000000    98.000000   \n",
       "\n",
       "       Localisation  Intersection  AtmosphericCondition  RoadCategory  \\\n",
       "count   9821.000000   9821.000000           9821.000000  47773.000000   \n",
       "mean       1.645555      2.068221              1.552999      3.297595   \n",
       "std        0.478369      2.033184              1.597467      1.150379   \n",
       "min        1.000000      1.000000             -1.000000      1.000000   \n",
       "25%        1.000000      1.000000              1.000000      3.000000   \n",
       "50%        2.000000      1.000000              1.000000      3.000000   \n",
       "75%        2.000000      2.000000              1.000000      4.000000   \n",
       "max        2.000000      9.000000              9.000000      9.000000   \n",
       "\n",
       "        TrafficType  NumberofLanes  SurfaceCondition      Severity  \n",
       "count  47773.000000   47773.000000      47773.000000  47773.000000  \n",
       "mean       1.984280       2.115107          1.285056      0.360936  \n",
       "std        0.582354       1.024505          0.861142      0.480277  \n",
       "min        1.000000       0.000000         -1.000000      0.000000  \n",
       "25%        2.000000       2.000000          1.000000      0.000000  \n",
       "50%        2.000000       2.000000          1.000000      0.000000  \n",
       "75%        2.000000       2.000000          1.000000      1.000000  \n",
       "max        4.000000       5.000000          9.000000      1.000000  "
      ]
     },
     "execution_count": 59,
     "metadata": {},
     "output_type": "execute_result"
    }
   ],
   "source": [
    "accidents.describe()"
   ]
  },
  {
   "cell_type": "code",
   "execution_count": 60,
   "id": "585ff1ed",
   "metadata": {},
   "outputs": [
    {
     "data": {
      "text/plain": [
       "array(['AccidentID', 'Day', 'Month', 'Hour', 'LightingCondition',\n",
       "       'Department', 'Localisation', 'Intersection',\n",
       "       'AtmosphericCondition', 'RoadCategory', 'TrafficType',\n",
       "       'NumberofLanes', 'SurfaceCondition', 'Severity'], dtype=object)"
      ]
     },
     "execution_count": 60,
     "metadata": {},
     "output_type": "execute_result"
    }
   ],
   "source": [
    "accidents.columns.values"
   ]
  },
  {
   "cell_type": "markdown",
   "id": "292bd510",
   "metadata": {},
   "source": [
    "We can now drop this feature that is useless for the prediction."
   ]
  },
  {
   "cell_type": "code",
   "execution_count": 61,
   "id": "9b75e3fe",
   "metadata": {},
   "outputs": [],
   "source": [
    "accidents = accidents.drop(\"AccidentID\", axis=1)"
   ]
  },
  {
   "cell_type": "code",
   "execution_count": 62,
   "id": "f3ae92ce",
   "metadata": {},
   "outputs": [
    {
     "data": {
      "text/html": [
       "<div>\n",
       "<style scoped>\n",
       "    .dataframe tbody tr th:only-of-type {\n",
       "        vertical-align: middle;\n",
       "    }\n",
       "\n",
       "    .dataframe tbody tr th {\n",
       "        vertical-align: top;\n",
       "    }\n",
       "\n",
       "    .dataframe thead th {\n",
       "        text-align: right;\n",
       "    }\n",
       "</style>\n",
       "<table border=\"1\" class=\"dataframe\">\n",
       "  <thead>\n",
       "    <tr style=\"text-align: right;\">\n",
       "      <th></th>\n",
       "      <th>Day</th>\n",
       "      <th>Month</th>\n",
       "      <th>Hour</th>\n",
       "      <th>LightingCondition</th>\n",
       "      <th>Department</th>\n",
       "      <th>Localisation</th>\n",
       "      <th>Intersection</th>\n",
       "      <th>AtmosphericCondition</th>\n",
       "      <th>RoadCategory</th>\n",
       "      <th>TrafficType</th>\n",
       "      <th>NumberofLanes</th>\n",
       "      <th>SurfaceCondition</th>\n",
       "      <th>Severity</th>\n",
       "    </tr>\n",
       "  </thead>\n",
       "  <tbody>\n",
       "    <tr>\n",
       "      <th>0</th>\n",
       "      <td>7.0</td>\n",
       "      <td>3.0</td>\n",
       "      <td>10.0</td>\n",
       "      <td>1.0</td>\n",
       "      <td>9.0</td>\n",
       "      <td>2.0</td>\n",
       "      <td>3.0</td>\n",
       "      <td>1.0</td>\n",
       "      <td>4</td>\n",
       "      <td>2</td>\n",
       "      <td>2</td>\n",
       "      <td>1</td>\n",
       "      <td>1</td>\n",
       "    </tr>\n",
       "    <tr>\n",
       "      <th>1</th>\n",
       "      <td>7.0</td>\n",
       "      <td>3.0</td>\n",
       "      <td>5.0</td>\n",
       "      <td>2.0</td>\n",
       "      <td>9.0</td>\n",
       "      <td>2.0</td>\n",
       "      <td>9.0</td>\n",
       "      <td>7.0</td>\n",
       "      <td>4</td>\n",
       "      <td>2</td>\n",
       "      <td>2</td>\n",
       "      <td>1</td>\n",
       "      <td>0</td>\n",
       "    </tr>\n",
       "    <tr>\n",
       "      <th>2</th>\n",
       "      <td>7.0</td>\n",
       "      <td>3.0</td>\n",
       "      <td>8.0</td>\n",
       "      <td>1.0</td>\n",
       "      <td>9.0</td>\n",
       "      <td>2.0</td>\n",
       "      <td>2.0</td>\n",
       "      <td>1.0</td>\n",
       "      <td>4</td>\n",
       "      <td>2</td>\n",
       "      <td>2</td>\n",
       "      <td>1</td>\n",
       "      <td>1</td>\n",
       "    </tr>\n",
       "    <tr>\n",
       "      <th>3</th>\n",
       "      <td>7.0</td>\n",
       "      <td>3.0</td>\n",
       "      <td>11.0</td>\n",
       "      <td>5.0</td>\n",
       "      <td>9.0</td>\n",
       "      <td>2.0</td>\n",
       "      <td>1.0</td>\n",
       "      <td>1.0</td>\n",
       "      <td>4</td>\n",
       "      <td>2</td>\n",
       "      <td>2</td>\n",
       "      <td>1</td>\n",
       "      <td>1</td>\n",
       "    </tr>\n",
       "    <tr>\n",
       "      <th>4</th>\n",
       "      <td>7.0</td>\n",
       "      <td>3.0</td>\n",
       "      <td>6.0</td>\n",
       "      <td>1.0</td>\n",
       "      <td>7.0</td>\n",
       "      <td>1.0</td>\n",
       "      <td>6.0</td>\n",
       "      <td>1.0</td>\n",
       "      <td>3</td>\n",
       "      <td>1</td>\n",
       "      <td>1</td>\n",
       "      <td>1</td>\n",
       "      <td>0</td>\n",
       "    </tr>\n",
       "  </tbody>\n",
       "</table>\n",
       "</div>"
      ],
      "text/plain": [
       "   Day  Month  Hour  LightingCondition  Department  Localisation  \\\n",
       "0  7.0    3.0  10.0                1.0         9.0           2.0   \n",
       "1  7.0    3.0   5.0                2.0         9.0           2.0   \n",
       "2  7.0    3.0   8.0                1.0         9.0           2.0   \n",
       "3  7.0    3.0  11.0                5.0         9.0           2.0   \n",
       "4  7.0    3.0   6.0                1.0         7.0           1.0   \n",
       "\n",
       "   Intersection  AtmosphericCondition  RoadCategory  TrafficType  \\\n",
       "0           3.0                   1.0             4            2   \n",
       "1           9.0                   7.0             4            2   \n",
       "2           2.0                   1.0             4            2   \n",
       "3           1.0                   1.0             4            2   \n",
       "4           6.0                   1.0             3            1   \n",
       "\n",
       "   NumberofLanes  SurfaceCondition  Severity  \n",
       "0              2                 1         1  \n",
       "1              2                 1         0  \n",
       "2              2                 1         1  \n",
       "3              2                 1         1  \n",
       "4              1                 1         0  "
      ]
     },
     "execution_count": 62,
     "metadata": {},
     "output_type": "execute_result"
    }
   ],
   "source": [
    "accidents.head()"
   ]
  },
  {
   "cell_type": "code",
   "execution_count": null,
   "id": "157ac271",
   "metadata": {},
   "outputs": [],
   "source": []
  },
  {
   "cell_type": "code",
   "execution_count": 63,
   "id": "77754d93",
   "metadata": {},
   "outputs": [
    {
     "name": "stdout",
     "output_type": "stream",
     "text": [
      "Original DataFrame:\n",
      "       Day  Month  Hour  LightingCondition  Department  Localisation  \\\n",
      "0      7.0    3.0  10.0                1.0         9.0           2.0   \n",
      "1      7.0    3.0   5.0                2.0         9.0           2.0   \n",
      "2      7.0    3.0   8.0                1.0         9.0           2.0   \n",
      "3      7.0    3.0  11.0                5.0         9.0           2.0   \n",
      "4      7.0    3.0   6.0                1.0         7.0           1.0   \n",
      "...    ...    ...   ...                ...         ...           ...   \n",
      "47768  NaN    NaN   NaN                NaN         NaN           NaN   \n",
      "47769  NaN    NaN   NaN                NaN         NaN           NaN   \n",
      "47770  NaN    NaN   NaN                NaN         NaN           NaN   \n",
      "47771  NaN    NaN   NaN                NaN         NaN           NaN   \n",
      "47772  NaN    NaN   NaN                NaN         NaN           NaN   \n",
      "\n",
      "       Intersection  AtmosphericCondition  RoadCategory  TrafficType  \\\n",
      "0               3.0                   1.0             4            2   \n",
      "1               9.0                   7.0             4            2   \n",
      "2               2.0                   1.0             4            2   \n",
      "3               1.0                   1.0             4            2   \n",
      "4               6.0                   1.0             3            1   \n",
      "...             ...                   ...           ...          ...   \n",
      "47768           NaN                   NaN             2            2   \n",
      "47769           NaN                   NaN             3            2   \n",
      "47770           NaN                   NaN             4            2   \n",
      "47771           NaN                   NaN             1            3   \n",
      "47772           NaN                   NaN             3            2   \n",
      "\n",
      "       NumberofLanes  SurfaceCondition  Severity  \n",
      "0                  2                 1         1  \n",
      "1                  2                 1         0  \n",
      "2                  2                 1         1  \n",
      "3                  2                 1         1  \n",
      "4                  1                 1         0  \n",
      "...              ...               ...       ...  \n",
      "47768              2                 1         1  \n",
      "47769              2                 1         0  \n",
      "47770              2                 3         1  \n",
      "47771              3                 1         1  \n",
      "47772              2                 1         1  \n",
      "\n",
      "[47773 rows x 13 columns]\n",
      "\n",
      "\n"
     ]
    }
   ],
   "source": [
    "print('Original DataFrame:')\n",
    "print(accidents)\n",
    "print('\\n')\n"
   ]
  },
  {
   "cell_type": "code",
   "execution_count": 64,
   "id": "1b95631c",
   "metadata": {},
   "outputs": [
    {
     "name": "stdout",
     "output_type": "stream",
     "text": [
      "DataFrame after dropping the rows having missing values:\n",
      "       Day  Month  Hour  LightingCondition  Department  Localisation  \\\n",
      "0      7.0    3.0  10.0                1.0         9.0           2.0   \n",
      "1      7.0    3.0   5.0                2.0         9.0           2.0   \n",
      "2      7.0    3.0   8.0                1.0         9.0           2.0   \n",
      "3      7.0    3.0  11.0                5.0         9.0           2.0   \n",
      "4      7.0    3.0   6.0                1.0         7.0           1.0   \n",
      "...    ...    ...   ...                ...         ...           ...   \n",
      "9816  30.0   11.0   4.0                1.0         1.0           2.0   \n",
      "9817  30.0   11.0  10.0                2.0         0.0           2.0   \n",
      "9818   1.0   12.0   6.0                1.0         0.0           2.0   \n",
      "9819  28.0   11.0   7.0                1.0         0.0           1.0   \n",
      "9820  18.0   11.0  10.0                4.0         0.0           2.0   \n",
      "\n",
      "      Intersection  AtmosphericCondition  RoadCategory  TrafficType  \\\n",
      "0              3.0                   1.0             4            2   \n",
      "1              9.0                   7.0             4            2   \n",
      "2              2.0                   1.0             4            2   \n",
      "3              1.0                   1.0             4            2   \n",
      "4              6.0                   1.0             3            1   \n",
      "...            ...                   ...           ...          ...   \n",
      "9816           1.0                   1.0             3            1   \n",
      "9817           1.0                   9.0             3            4   \n",
      "9818           1.0                   1.0             3            2   \n",
      "9819           1.0                   1.0             3            2   \n",
      "9820           1.0                   1.0             4            2   \n",
      "\n",
      "      NumberofLanes  SurfaceCondition  Severity  \n",
      "0                 2                 1         1  \n",
      "1                 2                 1         0  \n",
      "2                 2                 1         1  \n",
      "3                 2                 1         1  \n",
      "4                 1                 1         0  \n",
      "...             ...               ...       ...  \n",
      "9816              1                 1         0  \n",
      "9817              2                 1         0  \n",
      "9818              2                 1         0  \n",
      "9819              2                 1         0  \n",
      "9820              2                 1         0  \n",
      "\n",
      "[9821 rows x 13 columns]\n"
     ]
    }
   ],
   "source": [
    "# Default configuration drops rows having at least 1 missing value\n",
    "print('DataFrame after dropping the rows having missing values:')\n",
    "accidents = accidents.dropna()\n",
    "print(accidents)"
   ]
  },
  {
   "cell_type": "markdown",
   "id": "58ec0c21",
   "metadata": {},
   "source": [
    "Exporting the cleaned and transformed data\n",
    "\n"
   ]
  },
  {
   "cell_type": "code",
   "execution_count": 65,
   "id": "54f299af",
   "metadata": {},
   "outputs": [],
   "source": [
    "#data.to_csv(\"Accidents_Cleaned.csv\")"
   ]
  },
  {
   "cell_type": "markdown",
   "id": "d635c15e",
   "metadata": {},
   "source": [
    "## Split Train/Test/Validation\n",
    "\n",
    "It is now time to split our dataset between Training part and Testing part, before trying to find a model.\n",
    "\n",
    "I choose to take a ratio of 80/20 for TRAINING/TEST."
   ]
  },
  {
   "cell_type": "code",
   "execution_count": 66,
   "id": "055085c2",
   "metadata": {},
   "outputs": [],
   "source": [
    "from sklearn.model_selection import train_test_split\n",
    "\n",
    "X_train, X_test, y_train, y_test = train_test_split(accidents.drop(\"Severity\", axis=1), accidents[\"Severity\"], test_size=0.3, random_state=42)"
   ]
  },
  {
   "cell_type": "markdown",
   "id": "a33f20d0",
   "metadata": {},
   "source": [
    "Similarly, in the Training set I split between the actual Train set and the Validation set, with a 80/20 ratio as well\n",
    "\n"
   ]
  },
  {
   "cell_type": "code",
   "execution_count": 67,
   "id": "e223798d",
   "metadata": {},
   "outputs": [
    {
     "name": "stdout",
     "output_type": "stream",
     "text": [
      "(6874, 12)\n",
      "(2947, 12)\n"
     ]
    }
   ],
   "source": [
    "print(X_train.shape)\n",
    "print(X_test.shape)\n"
   ]
  },
  {
   "cell_type": "code",
   "execution_count": null,
   "id": "b5ad06b2",
   "metadata": {},
   "outputs": [],
   "source": []
  },
  {
   "cell_type": "markdown",
   "id": "45e2e551",
   "metadata": {},
   "source": [
    "# Machine Learning Model"
   ]
  },
  {
   "cell_type": "code",
   "execution_count": 68,
   "id": "4710bd51",
   "metadata": {},
   "outputs": [],
   "source": [
    "from sklearn import tree\n",
    "from sklearn.metrics import accuracy_score\n",
    "from sklearn.neural_network import MLPClassifier as mlp\n"
   ]
  },
  {
   "cell_type": "code",
   "execution_count": 69,
   "id": "112aaa10",
   "metadata": {},
   "outputs": [],
   "source": [
    "model_dt = tree.DecisionTreeClassifier()"
   ]
  },
  {
   "cell_type": "code",
   "execution_count": 70,
   "id": "6614f362",
   "metadata": {},
   "outputs": [
    {
     "data": {
      "text/plain": [
       "DecisionTreeClassifier()"
      ]
     },
     "execution_count": 70,
     "metadata": {},
     "output_type": "execute_result"
    }
   ],
   "source": [
    "model_dt.fit(X_train,y_train)"
   ]
  },
  {
   "cell_type": "code",
   "execution_count": 71,
   "id": "e8abcfff",
   "metadata": {},
   "outputs": [],
   "source": [
    "predict_test = model_dt.predict(X_test)"
   ]
  },
  {
   "cell_type": "markdown",
   "id": "0b6afffc",
   "metadata": {},
   "source": [
    "# Evaluation\n",
    "## Testing for accuracy"
   ]
  },
  {
   "cell_type": "code",
   "execution_count": 74,
   "id": "7441ea6b",
   "metadata": {},
   "outputs": [
    {
     "name": "stdout",
     "output_type": "stream",
     "text": [
      "Accuracy Score of DT on Test Dataset -  0.6294536817102138\n",
      "\n",
      "Confusion Matrix of DT on Test Dataset - \n",
      " [[1337  578]\n",
      " [ 514  518]]\n",
      "\n",
      "Classification Report of DT on Test Dataset - \n",
      "               precision    recall  f1-score   support\n",
      "\n",
      "           0       0.72      0.70      0.71      1915\n",
      "           1       0.47      0.50      0.49      1032\n",
      "\n",
      "    accuracy                           0.63      2947\n",
      "   macro avg       0.60      0.60      0.60      2947\n",
      "weighted avg       0.63      0.63      0.63      2947\n",
      "\n"
     ]
    }
   ],
   "source": [
    "from sklearn.metrics import accuracy_score, classification_report,confusion_matrix\n",
    "print(\"Accuracy Score of DT on Test Dataset - \", accuracy_score(y_test,predict_test))\n",
    "print(\"\\nConfusion Matrix of DT on Test Dataset - \\n\", confusion_matrix(y_test,predict_test))\n",
    "print(\"\\nClassification Report of DT on Test Dataset - \\n\", classification_report(y_test,predict_test))"
   ]
  },
  {
   "cell_type": "code",
   "execution_count": null,
   "id": "1c21ae2b",
   "metadata": {},
   "outputs": [],
   "source": []
  },
  {
   "cell_type": "code",
   "execution_count": 75,
   "id": "b45f55fc",
   "metadata": {},
   "outputs": [
    {
     "data": {
      "text/plain": [
       "Text(0.5, 1.0, 'Confusion Matrix of Test Dataset')"
      ]
     },
     "execution_count": 75,
     "metadata": {},
     "output_type": "execute_result"
    },
    {
     "data": {
      "image/png": "[encoded data removed]",
      "text/plain": [
       "<Figure size 432x432 with 2 Axes>"
      ]
     },
     "metadata": {
      "needs_background": "light"
     },
     "output_type": "display_data"
    }
   ],
   "source": [
    "plt.figure(figsize=(6,6))\n",
    "sns.heatmap(data=confusion_matrix(y_test,predict_test),linewidths=.5, annot=True,square = True,  cmap = 'Blues')\n",
    "plt.ylabel('Actual label')\n",
    "plt.xlabel('Predicted label')\n",
    "plt.title('Confusion Matrix of Test Dataset')"
   ]
  },
  {
   "cell_type": "code",
   "execution_count": 76,
   "id": "8b5ebfd9",
   "metadata": {},
   "outputs": [
    {
     "name": "stdout",
     "output_type": "stream",
     "text": [
      "Accuracy Score of DT on Test Dataset -  0.4726277372262774\n"
     ]
    }
   ],
   "source": [
    "print(\"Accuracy Score of DT on Test Dataset - \", precision_score(y_test,predict_test))"
   ]
  },
  {
   "cell_type": "markdown",
   "id": "d9fbf641",
   "metadata": {},
   "source": [
    "The precision here means that on all the \"serious accidents\" predicted, 69% were truly serious\n",
    "\n"
   ]
  },
  {
   "cell_type": "code",
   "execution_count": 77,
   "id": "1734557f",
   "metadata": {},
   "outputs": [
    {
     "name": "stdout",
     "output_type": "stream",
     "text": [
      "Accuracy Score of DT on Test Dataset -  0.501937984496124\n"
     ]
    }
   ],
   "source": [
    "print(\"Accuracy Score of DT on Test Dataset - \", recall_score(y_test,predict_test))"
   ]
  },
  {
   "cell_type": "markdown",
   "id": "700a1481",
   "metadata": {},
   "source": [
    "The recall here means that on all the serious accidents that happened, 61% have been predicted correctly\n",
    "\n",
    "That is the measure that really interests us the most because we need to provide the needed services up to the severity of the accidents.\n",
    "\n",
    "These scores can be explained partially because of the fact that there is more examples of \"light injuries\" than \"serious accidents\" :"
   ]
  },
  {
   "cell_type": "code",
   "execution_count": 78,
   "id": "83825044",
   "metadata": {},
   "outputs": [
    {
     "data": {
      "text/plain": [
       "<AxesSubplot:>"
      ]
     },
     "execution_count": 78,
     "metadata": {},
     "output_type": "execute_result"
    },
    {
     "data": {
      "image/png": "[encoded data removed]",
      "text/plain": [
       "<Figure size 432x288 with 1 Axes>"
      ]
     },
     "metadata": {
      "needs_background": "light"
     },
     "output_type": "display_data"
    }
   ],
   "source": [
    "y_train.hist()"
   ]
  },
  {
   "cell_type": "markdown",
   "id": "2caa80fd",
   "metadata": {},
   "source": [
    "## ROC Curve"
   ]
  },
  {
   "cell_type": "code",
   "execution_count": 80,
   "id": "943cac1f",
   "metadata": {},
   "outputs": [],
   "source": [
    "y_scores = model_dt.predict_proba(X_test)"
   ]
  },
  {
   "cell_type": "code",
   "execution_count": 81,
   "id": "77ef7262",
   "metadata": {},
   "outputs": [],
   "source": [
    "y_scores = y_scores[:,1]\n"
   ]
  },
  {
   "cell_type": "code",
   "execution_count": 82,
   "id": "72187916",
   "metadata": {},
   "outputs": [],
   "source": [
    "false_positive_rate, true_positive_rate, thresholds = roc_curve(y_test, y_scores)\n"
   ]
  },
  {
   "cell_type": "code",
   "execution_count": 83,
   "id": "41ddfb09",
   "metadata": {},
   "outputs": [
    {
     "data": {
      "image/png": "[encoded data removed]",
      "text/plain": [
       "<Figure size 1008x504 with 1 Axes>"
      ]
     },
     "metadata": {
      "needs_background": "light"
     },
     "output_type": "display_data"
    }
   ],
   "source": [
    "def plot_roc_curve(false_positive_rate, true_positive_rate, label=None):\n",
    "    plt.plot(false_positive_rate, true_positive_rate, linewidth=2, label=label)\n",
    "    plt.plot([0, 1], [0, 1], 'r', linewidth=4)\n",
    "    plt.axis([0, 1, 0, 1])\n",
    "    plt.xlabel('False Positive Rate (FPR)', fontsize=16)\n",
    "    plt.ylabel('True Positive Rate (TPR)', fontsize=16)\n",
    "\n",
    "plt.figure(figsize=(14, 7))\n",
    "plot_roc_curve(false_positive_rate, true_positive_rate)\n",
    "plt.show()"
   ]
  },
  {
   "cell_type": "code",
   "execution_count": 84,
   "id": "41b77744",
   "metadata": {},
   "outputs": [],
   "source": [
    "r_a_score = roc_auc_score(y_test, y_scores)"
   ]
  },
  {
   "cell_type": "code",
   "execution_count": 85,
   "id": "e6549eef",
   "metadata": {},
   "outputs": [
    {
     "data": {
      "text/plain": [
       "0.6014871374501588"
      ]
     },
     "execution_count": 85,
     "metadata": {},
     "output_type": "execute_result"
    }
   ],
   "source": [
    "r_a_score\n"
   ]
  },
  {
   "cell_type": "code",
   "execution_count": null,
   "id": "cbfdd445",
   "metadata": {},
   "outputs": [],
   "source": []
  },
  {
   "cell_type": "code",
   "execution_count": null,
   "id": "07684937",
   "metadata": {},
   "outputs": [],
   "source": []
  },
  {
   "cell_type": "code",
   "execution_count": null,
   "id": "2bfcb1ad",
   "metadata": {},
   "outputs": [],
   "source": []
  },
  {
   "cell_type": "code",
   "execution_count": 88,
   "id": "94978a7f",
   "metadata": {},
   "outputs": [
    {
     "data": {
      "text/html": [
       "<div>\n",
       "<style scoped>\n",
       "    .dataframe tbody tr th:only-of-type {\n",
       "        vertical-align: middle;\n",
       "    }\n",
       "\n",
       "    .dataframe tbody tr th {\n",
       "        vertical-align: top;\n",
       "    }\n",
       "\n",
       "    .dataframe thead th {\n",
       "        text-align: right;\n",
       "    }\n",
       "</style>\n",
       "<table border=\"1\" class=\"dataframe\">\n",
       "  <thead>\n",
       "    <tr style=\"text-align: right;\">\n",
       "      <th></th>\n",
       "      <th>Day</th>\n",
       "      <th>Month</th>\n",
       "      <th>Hour</th>\n",
       "      <th>LightingCondition</th>\n",
       "      <th>Department</th>\n",
       "      <th>Localisation</th>\n",
       "      <th>Intersection</th>\n",
       "      <th>AtmosphericCondition</th>\n",
       "      <th>RoadCategory</th>\n",
       "      <th>TrafficType</th>\n",
       "      <th>NumberofLanes</th>\n",
       "      <th>SurfaceCondition</th>\n",
       "    </tr>\n",
       "  </thead>\n",
       "  <tbody>\n",
       "    <tr>\n",
       "      <th>6692</th>\n",
       "      <td>26.0</td>\n",
       "      <td>11.0</td>\n",
       "      <td>9.0</td>\n",
       "      <td>1.0</td>\n",
       "      <td>8.0</td>\n",
       "      <td>2.0</td>\n",
       "      <td>1.0</td>\n",
       "      <td>1.0</td>\n",
       "      <td>3</td>\n",
       "      <td>3</td>\n",
       "      <td>2</td>\n",
       "      <td>1</td>\n",
       "    </tr>\n",
       "    <tr>\n",
       "      <th>5527</th>\n",
       "      <td>29.0</td>\n",
       "      <td>1.0</td>\n",
       "      <td>10.0</td>\n",
       "      <td>5.0</td>\n",
       "      <td>7.0</td>\n",
       "      <td>2.0</td>\n",
       "      <td>1.0</td>\n",
       "      <td>1.0</td>\n",
       "      <td>3</td>\n",
       "      <td>2</td>\n",
       "      <td>3</td>\n",
       "      <td>1</td>\n",
       "    </tr>\n",
       "    <tr>\n",
       "      <th>8344</th>\n",
       "      <td>25.0</td>\n",
       "      <td>6.0</td>\n",
       "      <td>9.0</td>\n",
       "      <td>1.0</td>\n",
       "      <td>9.0</td>\n",
       "      <td>2.0</td>\n",
       "      <td>1.0</td>\n",
       "      <td>1.0</td>\n",
       "      <td>4</td>\n",
       "      <td>2</td>\n",
       "      <td>1</td>\n",
       "      <td>1</td>\n",
       "    </tr>\n",
       "    <tr>\n",
       "      <th>4226</th>\n",
       "      <td>16.0</td>\n",
       "      <td>10.0</td>\n",
       "      <td>8.0</td>\n",
       "      <td>1.0</td>\n",
       "      <td>9.0</td>\n",
       "      <td>2.0</td>\n",
       "      <td>1.0</td>\n",
       "      <td>1.0</td>\n",
       "      <td>4</td>\n",
       "      <td>3</td>\n",
       "      <td>0</td>\n",
       "      <td>1</td>\n",
       "    </tr>\n",
       "    <tr>\n",
       "      <th>8587</th>\n",
       "      <td>27.0</td>\n",
       "      <td>8.0</td>\n",
       "      <td>5.0</td>\n",
       "      <td>1.0</td>\n",
       "      <td>3.0</td>\n",
       "      <td>1.0</td>\n",
       "      <td>2.0</td>\n",
       "      <td>1.0</td>\n",
       "      <td>3</td>\n",
       "      <td>2</td>\n",
       "      <td>2</td>\n",
       "      <td>1</td>\n",
       "    </tr>\n",
       "    <tr>\n",
       "      <th>3381</th>\n",
       "      <td>15.0</td>\n",
       "      <td>9.0</td>\n",
       "      <td>5.0</td>\n",
       "      <td>1.0</td>\n",
       "      <td>9.0</td>\n",
       "      <td>2.0</td>\n",
       "      <td>6.0</td>\n",
       "      <td>1.0</td>\n",
       "      <td>4</td>\n",
       "      <td>1</td>\n",
       "      <td>2</td>\n",
       "      <td>1</td>\n",
       "    </tr>\n",
       "    <tr>\n",
       "      <th>1952</th>\n",
       "      <td>21.0</td>\n",
       "      <td>8.0</td>\n",
       "      <td>9.0</td>\n",
       "      <td>1.0</td>\n",
       "      <td>3.0</td>\n",
       "      <td>1.0</td>\n",
       "      <td>1.0</td>\n",
       "      <td>1.0</td>\n",
       "      <td>3</td>\n",
       "      <td>2</td>\n",
       "      <td>2</td>\n",
       "      <td>1</td>\n",
       "    </tr>\n",
       "    <tr>\n",
       "      <th>555</th>\n",
       "      <td>19.0</td>\n",
       "      <td>10.0</td>\n",
       "      <td>8.0</td>\n",
       "      <td>1.0</td>\n",
       "      <td>6.0</td>\n",
       "      <td>2.0</td>\n",
       "      <td>1.0</td>\n",
       "      <td>1.0</td>\n",
       "      <td>3</td>\n",
       "      <td>2</td>\n",
       "      <td>2</td>\n",
       "      <td>1</td>\n",
       "    </tr>\n",
       "    <tr>\n",
       "      <th>4902</th>\n",
       "      <td>17.0</td>\n",
       "      <td>5.0</td>\n",
       "      <td>14.0</td>\n",
       "      <td>5.0</td>\n",
       "      <td>7.0</td>\n",
       "      <td>2.0</td>\n",
       "      <td>1.0</td>\n",
       "      <td>1.0</td>\n",
       "      <td>4</td>\n",
       "      <td>2</td>\n",
       "      <td>2</td>\n",
       "      <td>1</td>\n",
       "    </tr>\n",
       "    <tr>\n",
       "      <th>1163</th>\n",
       "      <td>6.0</td>\n",
       "      <td>3.0</td>\n",
       "      <td>9.0</td>\n",
       "      <td>1.0</td>\n",
       "      <td>1.0</td>\n",
       "      <td>1.0</td>\n",
       "      <td>1.0</td>\n",
       "      <td>6.0</td>\n",
       "      <td>3</td>\n",
       "      <td>2</td>\n",
       "      <td>3</td>\n",
       "      <td>2</td>\n",
       "    </tr>\n",
       "    <tr>\n",
       "      <th>9368</th>\n",
       "      <td>20.0</td>\n",
       "      <td>8.0</td>\n",
       "      <td>13.0</td>\n",
       "      <td>3.0</td>\n",
       "      <td>1.0</td>\n",
       "      <td>2.0</td>\n",
       "      <td>1.0</td>\n",
       "      <td>1.0</td>\n",
       "      <td>3</td>\n",
       "      <td>2</td>\n",
       "      <td>2</td>\n",
       "      <td>1</td>\n",
       "    </tr>\n",
       "    <tr>\n",
       "      <th>5912</th>\n",
       "      <td>18.0</td>\n",
       "      <td>7.0</td>\n",
       "      <td>13.0</td>\n",
       "      <td>5.0</td>\n",
       "      <td>97.0</td>\n",
       "      <td>2.0</td>\n",
       "      <td>1.0</td>\n",
       "      <td>1.0</td>\n",
       "      <td>2</td>\n",
       "      <td>2</td>\n",
       "      <td>2</td>\n",
       "      <td>1</td>\n",
       "    </tr>\n",
       "    <tr>\n",
       "      <th>6834</th>\n",
       "      <td>17.0</td>\n",
       "      <td>5.0</td>\n",
       "      <td>1.0</td>\n",
       "      <td>5.0</td>\n",
       "      <td>6.0</td>\n",
       "      <td>1.0</td>\n",
       "      <td>1.0</td>\n",
       "      <td>1.0</td>\n",
       "      <td>4</td>\n",
       "      <td>3</td>\n",
       "      <td>2</td>\n",
       "      <td>1</td>\n",
       "    </tr>\n",
       "    <tr>\n",
       "      <th>5608</th>\n",
       "      <td>21.0</td>\n",
       "      <td>6.0</td>\n",
       "      <td>9.0</td>\n",
       "      <td>1.0</td>\n",
       "      <td>8.0</td>\n",
       "      <td>1.0</td>\n",
       "      <td>1.0</td>\n",
       "      <td>1.0</td>\n",
       "      <td>4</td>\n",
       "      <td>2</td>\n",
       "      <td>2</td>\n",
       "      <td>3</td>\n",
       "    </tr>\n",
       "    <tr>\n",
       "      <th>5364</th>\n",
       "      <td>16.0</td>\n",
       "      <td>8.0</td>\n",
       "      <td>6.0</td>\n",
       "      <td>1.0</td>\n",
       "      <td>6.0</td>\n",
       "      <td>2.0</td>\n",
       "      <td>8.0</td>\n",
       "      <td>3.0</td>\n",
       "      <td>3</td>\n",
       "      <td>2</td>\n",
       "      <td>2</td>\n",
       "      <td>2</td>\n",
       "    </tr>\n",
       "  </tbody>\n",
       "</table>\n",
       "</div>"
      ],
      "text/plain": [
       "       Day  Month  Hour  LightingCondition  Department  Localisation  \\\n",
       "6692  26.0   11.0   9.0                1.0         8.0           2.0   \n",
       "5527  29.0    1.0  10.0                5.0         7.0           2.0   \n",
       "8344  25.0    6.0   9.0                1.0         9.0           2.0   \n",
       "4226  16.0   10.0   8.0                1.0         9.0           2.0   \n",
       "8587  27.0    8.0   5.0                1.0         3.0           1.0   \n",
       "3381  15.0    9.0   5.0                1.0         9.0           2.0   \n",
       "1952  21.0    8.0   9.0                1.0         3.0           1.0   \n",
       "555   19.0   10.0   8.0                1.0         6.0           2.0   \n",
       "4902  17.0    5.0  14.0                5.0         7.0           2.0   \n",
       "1163   6.0    3.0   9.0                1.0         1.0           1.0   \n",
       "9368  20.0    8.0  13.0                3.0         1.0           2.0   \n",
       "5912  18.0    7.0  13.0                5.0        97.0           2.0   \n",
       "6834  17.0    5.0   1.0                5.0         6.0           1.0   \n",
       "5608  21.0    6.0   9.0                1.0         8.0           1.0   \n",
       "5364  16.0    8.0   6.0                1.0         6.0           2.0   \n",
       "\n",
       "      Intersection  AtmosphericCondition  RoadCategory  TrafficType  \\\n",
       "6692           1.0                   1.0             3            3   \n",
       "5527           1.0                   1.0             3            2   \n",
       "8344           1.0                   1.0             4            2   \n",
       "4226           1.0                   1.0             4            3   \n",
       "8587           2.0                   1.0             3            2   \n",
       "3381           6.0                   1.0             4            1   \n",
       "1952           1.0                   1.0             3            2   \n",
       "555            1.0                   1.0             3            2   \n",
       "4902           1.0                   1.0             4            2   \n",
       "1163           1.0                   6.0             3            2   \n",
       "9368           1.0                   1.0             3            2   \n",
       "5912           1.0                   1.0             2            2   \n",
       "6834           1.0                   1.0             4            3   \n",
       "5608           1.0                   1.0             4            2   \n",
       "5364           8.0                   3.0             3            2   \n",
       "\n",
       "      NumberofLanes  SurfaceCondition  \n",
       "6692              2                 1  \n",
       "5527              3                 1  \n",
       "8344              1                 1  \n",
       "4226              0                 1  \n",
       "8587              2                 1  \n",
       "3381              2                 1  \n",
       "1952              2                 1  \n",
       "555               2                 1  \n",
       "4902              2                 1  \n",
       "1163              3                 2  \n",
       "9368              2                 1  \n",
       "5912              2                 1  \n",
       "6834              2                 1  \n",
       "5608              2                 3  \n",
       "5364              2                 2  "
      ]
     },
     "execution_count": 88,
     "metadata": {},
     "output_type": "execute_result"
    }
   ],
   "source": [
    "X_train.head(15)"
   ]
  },
  {
   "cell_type": "markdown",
   "id": "17be06ba",
   "metadata": {},
   "source": [
    "# Predictions\n",
    "\n",
    "You can Make prediction by giving inputs to the trained model\n",
    "\n",
    "To try on some examples what would be the predictions here:"
   ]
  },
  {
   "cell_type": "code",
   "execution_count": 90,
   "id": "6ed022d7",
   "metadata": {},
   "outputs": [
    {
     "name": "stderr",
     "output_type": "stream",
     "text": [
      "C:\\Python310\\lib\\site-packages\\sklearn\\base.py:450: UserWarning:\n",
      "\n",
      "X does not have valid feature names, but DecisionTreeClassifier was fitted with feature names\n",
      "\n"
     ]
    },
    {
     "data": {
      "text/plain": [
       "array([1])"
      ]
     },
     "execution_count": 90,
     "metadata": {},
     "output_type": "execute_result"
    }
   ],
   "source": [
    "model_dt.predict(np.array([[14, 9, 8, 3, 13, 1, 2, 3, 2, 3, 1, 3]]))\n"
   ]
  },
  {
   "cell_type": "markdown",
   "id": "19af7503",
   "metadata": {},
   "source": [
    "We can predict, knowing the accuracy score, that this accident will involve a user with serious injuries or death.\n",
    "\n",
    "This information can be helpful to warn the appropriate services such as the nearest hospital of the incoming of wounded people."
   ]
  },
  {
   "cell_type": "markdown",
   "id": "e2daff68",
   "metadata": {},
   "source": [
    "## Conclucion\n",
    "We can conclude, with the accuracy score to take into consideration, that the injuries will be only light.\n",
    "\n",
    "Similarly, knowing this information can save some resources that can be more helpful to save other people that need it."
   ]
  },
  {
   "cell_type": "code",
   "execution_count": null,
   "id": "74a9bad2",
   "metadata": {},
   "outputs": [],
   "source": []
  }
 ],
 "metadata": {
  "kernelspec": {
   "display_name": "Python 3 (ipykernel)",
   "language": "python",
   "name": "python3"
  },
  "language_info": {
   "codemirror_mode": {
    "name": "ipython",
    "version": 3
   },
   "file_extension": ".py",
   "mimetype": "text/x-python",
   "name": "python",
   "nbconvert_exporter": "python",
   "pygments_lexer": "ipython3",
   "version": "3.10.4"
  }
 },
 "nbformat": 4,
 "nbformat_minor": 5
}
